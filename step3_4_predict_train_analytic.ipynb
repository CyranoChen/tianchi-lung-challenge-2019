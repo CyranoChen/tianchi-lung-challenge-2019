{
 "cells": [
  {
   "cell_type": "code",
   "execution_count": 1,
   "metadata": {},
   "outputs": [
    {
     "name": "stdout",
     "output_type": "stream",
     "text": [
      "Python 3.6.8 (default, Jan 14 2019, 11:02:34) \n",
      "[GCC 8.0.1 20180414 (experimental) [trunk revision 259383]] on linux\n",
      "numpy 1.16.4\n",
      "pandas 0.24.2\n",
      "opencv2 4.1.0\n",
      "sklearn 0.21.2\n",
      "tensorflow 1.14.0\n",
      "keras 2.2.4-tf\n"
     ]
    }
   ],
   "source": [
    "# -*- coding: utf-8 -*-\n",
    "import sys; print('Python %s on %s' % (sys.version, sys.platform))\n",
    "import os\n",
    "import time\n",
    "import json\n",
    "from glob import glob, iglob\n",
    "from tqdm import tqdm\n",
    "import matplotlib.pyplot as plt\n",
    "\n",
    "import numpy as np; print('numpy', np.__version__)\n",
    "import pandas as pd; print('pandas', pd.__version__)\n",
    "import cv2; print('opencv2', cv2.__version__)\n",
    "import sklearn; print('sklearn', sklearn.__version__)\n",
    "import tensorflow as tf; print('tensorflow', tf.__version__)\n",
    "import tensorflow.keras as keras; print('keras', keras.__version__)\n",
    "\n",
    "import settings\n",
    "import helper\n",
    "import visual"
   ]
  },
  {
   "cell_type": "markdown",
   "metadata": {},
   "source": [
    "# 1. Load Meta File and Annotation"
   ]
  },
  {
   "cell_type": "code",
   "execution_count": 2,
   "metadata": {},
   "outputs": [
    {
     "name": "stdout",
     "output_type": "stream",
     "text": [
      "meta_train: (1470, 11) \n",
      " meta_test: (222, 11)\n"
     ]
    }
   ],
   "source": [
    "df_meta_train = pd.read_csv(filepath_or_buffer=settings.PREPROCESS_TRAIN_META_FILE, index_col=['seriesuid'])\n",
    "df_meta_train.index = df_meta_train.index.astype('str')\n",
    "df_meta_test = pd.read_csv(filepath_or_buffer=settings.PREPROCESS_TEST_META_FILE, index_col=['seriesuid'])\n",
    "df_meta_test.index = df_meta_test.index.astype('str')\n",
    "\n",
    "print('meta_train:', df_meta_train.shape, '\\n', 'meta_test:', df_meta_test.shape)"
   ]
  },
  {
   "cell_type": "code",
   "execution_count": 3,
   "metadata": {},
   "outputs": [
    {
     "name": "stdout",
     "output_type": "stream",
     "text": [
      "annotation: (12218, 16) distinct lung: 1436\n"
     ]
    }
   ],
   "source": [
    "df_annotation = pd.read_csv(filepath_or_buffer=settings.PREPROCESS_ANNOTATION_FILE, index_col=['seriesuid'])\n",
    "df_annotation.index = df_annotation.index.astype('str')\n",
    "df_annotation['label'] = df_annotation['label'].astype('int')\n",
    "print('annotation:', df_annotation.shape, 'distinct lung:', len(set(df_annotation.index)))"
   ]
  },
  {
   "cell_type": "markdown",
   "metadata": {},
   "source": [
    "# 2. Predicted Results Analytic (lung)"
   ]
  },
  {
   "cell_type": "code",
   "execution_count": 4,
   "metadata": {},
   "outputs": [],
   "source": [
    "wtype = 'lung'"
   ]
  },
  {
   "cell_type": "code",
   "execution_count": 5,
   "metadata": {},
   "outputs": [
    {
     "name": "stdout",
     "output_type": "stream",
     "text": [
      "results: (5872, 7) distinct lung: 100\n"
     ]
    }
   ],
   "source": [
    "df_results_d = pd.read_csv(filepath_or_buffer=settings.SUBMISSION_DIR + 'train/tasks_' + wtype +'.csv', \n",
    "                            index_col=['seriesuid'])\n",
    "df_results_d.index = df_results_d.index.astype('str')\n",
    "\n",
    "print('results:', df_results_d.shape, 'distinct lung:', len(set(df_results_d.index)))"
   ]
  },
  {
   "cell_type": "code",
   "execution_count": 6,
   "metadata": {},
   "outputs": [
    {
     "name": "stdout",
     "output_type": "stream",
     "text": [
      "(457, 16) 92\n"
     ]
    },
    {
     "name": "stderr",
     "output_type": "stream",
     "text": [
      "/usr/local/lib/python3.6/dist-packages/ipykernel_launcher.py:1: FutureWarning: \n",
      "Passing list-likes to .loc or [] with any missing label will raise\n",
      "KeyError in the future, you can use .reindex() as an alternative.\n",
      "\n",
      "See the documentation here:\n",
      "https://pandas.pydata.org/pandas-docs/stable/indexing.html#deprecate-loc-reindex-listlike\n",
      "  \"\"\"Entry point for launching an IPython kernel.\n"
     ]
    }
   ],
   "source": [
    "df_annotation_lung = df_annotation.loc[set(df_results_d.index)]\n",
    "df_annotation_lung = df_annotation_lung[(df_annotation_lung['label']==1)|(df_annotation_lung['label']==5)]\n",
    "print(df_annotation_lung.shape, len(set(df_annotation_lung.index)))"
   ]
  },
  {
   "cell_type": "code",
   "execution_count": 7,
   "metadata": {},
   "outputs": [
    {
     "name": "stderr",
     "output_type": "stream",
     "text": [
      "100%|██████████| 100/100 [00:07<00:00,  6.38it/s]\n"
     ]
    }
   ],
   "source": [
    "list_pos = []\n",
    "list_anno = []\n",
    "list_neg = []\n",
    "for uid in tqdm(set(df_results_d.index)):\n",
    "    if uid not in df_annotation_lung.index:\n",
    "        continue\n",
    "        \n",
    "    predicts = df_results_d.loc[[uid]]\n",
    "    labels = df_annotation_lung.loc[[uid]]\n",
    "    meta = df_meta_train.loc[uid] # slice\n",
    "    \n",
    "    if len(predicts) == 0 or len(labels) == 0:\n",
    "        continue\n",
    "        \n",
    "    for _, c in predicts.iterrows():\n",
    "        vcoordX, vcoordY, vcoordZ = c.vcoordX, c.vcoordY, c.vcoordZ\n",
    "        \n",
    "        flag_pass = False\n",
    "        for _, l in labels.iterrows():          \n",
    "            dist_c = np.linalg.norm(np.array([vcoordX, vcoordY, vcoordZ]) - np.array([l.vcoordX, l.vcoordY, l.vcoordZ]))\n",
    "            dist_d = np.linalg.norm(np.array([l.diameterX/2, l.diameterY/2, l.diameterZ/2]))\n",
    "            if (dist_c - dist_d) <= 0:\n",
    "                flag_pass = True\n",
    "                list_anno.append(l)\n",
    "                list_pos.append((c, l['label'])) \n",
    "                break\n",
    "        \n",
    "        if not flag_pass:\n",
    "            list_neg.append((c, 0))\n",
    "    "
   ]
  },
  {
   "cell_type": "code",
   "execution_count": 8,
   "metadata": {},
   "outputs": [
    {
     "name": "stdout",
     "output_type": "stream",
     "text": [
      "pos/total: 382 / 5872\n",
      "distinct anno: 201 / 382 -> 457\n"
     ]
    }
   ],
   "source": [
    "df_anno_found = pd.DataFrame(list_anno)\n",
    "df_anno_found = df_anno_found.drop_duplicates()\n",
    "\n",
    "print('pos/total:', len(list_pos), '/', df_results_d.shape[0])\n",
    "print('distinct anno:', df_anno_found.shape[0], '/', len(list_anno), '->', df_annotation_lung.shape[0])"
   ]
  },
  {
   "cell_type": "code",
   "execution_count": 9,
   "metadata": {},
   "outputs": [
    {
     "name": "stdout",
     "output_type": "stream",
     "text": [
      "recall: 0.43982494529540483\n",
      "precison: 0.06505449591280654\n",
      "f1: 0.11334424724286007\n"
     ]
    }
   ],
   "source": [
    "recall = len(df_anno_found) / len(df_annotation_lung)\n",
    "precison = len(list_pos) / len(df_results_d)\n",
    "print('recall:', recall)\n",
    "print('precison:', precison)\n",
    "print('f1:', 2*recall*precison/(recall+precison))"
   ]
  },
  {
   "cell_type": "markdown",
   "metadata": {},
   "source": [
    "recall: 0.43982494529540483\n",
    "precison: 0.06505449591280654\n",
    "f1: 0.11334424724286007"
   ]
  },
  {
   "cell_type": "markdown",
   "metadata": {},
   "source": [
    "## Classification"
   ]
  },
  {
   "cell_type": "code",
   "execution_count": 10,
   "metadata": {},
   "outputs": [
    {
     "name": "stdout",
     "output_type": "stream",
     "text": [
      "results: (1412, 6) distinct lung: 100\n"
     ]
    }
   ],
   "source": [
    "df_results_c = pd.read_csv(filepath_or_buffer=settings.SUBMISSION_DIR + 'train/submission_' + wtype +'.csv', \n",
    "                           index_col=['seriesuid'])\n",
    "df_results_c.index = df_results_c.index.astype('str')\n",
    "\n",
    "print('results:', df_results_c.shape, 'distinct lung:', len(set(df_results_c.index)))"
   ]
  },
  {
   "cell_type": "code",
   "execution_count": 11,
   "metadata": {},
   "outputs": [
    {
     "name": "stdout",
     "output_type": "stream",
     "text": [
      "(627, 6)\n"
     ]
    }
   ],
   "source": [
    "threshold_probability = 0.95\n",
    "df_results_c = df_results_c[df_results_c['probability'] >= threshold_probability]\n",
    "print(df_results_c.shape)"
   ]
  },
  {
   "cell_type": "code",
   "execution_count": 12,
   "metadata": {},
   "outputs": [
    {
     "name": "stderr",
     "output_type": "stream",
     "text": [
      " 80%|████████  | 78/97 [00:00<00:00, 99.10it/s] "
     ]
    },
    {
     "name": "stdout",
     "output_type": "stream",
     "text": [
      "1 5.0\n",
      "1 5.0\n",
      "1 5.0\n",
      "1 5.0\n"
     ]
    },
    {
     "name": "stderr",
     "output_type": "stream",
     "text": [
      "100%|██████████| 97/97 [00:01<00:00, 88.66it/s]\n"
     ]
    }
   ],
   "source": [
    "list_tp = []\n",
    "list_anno_c = []\n",
    "list_err = []\n",
    "for uid in tqdm(set(df_results_c.index)):\n",
    "    if uid not in df_annotation_lung.index:\n",
    "        continue\n",
    "        \n",
    "    predicts = df_results_c.loc[[uid]]\n",
    "    labels = df_annotation_lung.loc[[uid]]\n",
    "    meta = df_meta_train.loc[uid] # slice\n",
    "    \n",
    "    if len(predicts) == 0 or len(labels) == 0:\n",
    "        continue\n",
    "        \n",
    "    for _, c in predicts.iterrows():\n",
    "        vcoordX, vcoordY, vcoordZ = c.coordX - meta.originX, c.coordY - meta.originY, c.coordZ - meta.originZ\n",
    "        \n",
    "        flag_pass = False\n",
    "        for _, l in labels.iterrows():\n",
    "            dist_c = np.linalg.norm(np.array([vcoordX, vcoordY, vcoordZ]) - np.array([l.vcoordX, l.vcoordY, l.vcoordZ]))\n",
    "            dist_d = np.linalg.norm(np.array([l.diameterX/2, l.diameterY/2, l.diameterZ/2]))\n",
    "            if (dist_c - dist_d) <= 0:\n",
    "                if int(c['class']) == int(l.label):\n",
    "                    list_anno_c.append(l)\n",
    "                    list_tp.append(c)\n",
    "                    break\n",
    "                else:\n",
    "                    print(c['class'], l['label'])\n",
    "                    list_err.append(c)\n",
    "                    break\n",
    "    "
   ]
  },
  {
   "cell_type": "code",
   "execution_count": 13,
   "metadata": {},
   "outputs": [
    {
     "name": "stdout",
     "output_type": "stream",
     "text": [
      "pos / total: 147 / 627\n",
      "fpos(label) / total: 4 / 627\n",
      "distinct anno: 101 / 147 -> 457\n"
     ]
    }
   ],
   "source": [
    "df_anno_found = pd.DataFrame(list_anno_c)\n",
    "df_anno_found = df_anno_found.drop_duplicates()\n",
    "\n",
    "print('pos / total:', len(list_tp), '/', df_results_c.shape[0])\n",
    "print('fpos(label) / total:', len(list_err), '/', df_results_c.shape[0])\n",
    "print('distinct anno:', df_anno_found.shape[0], '/', len(list_anno_c), '->', df_annotation_lung.shape[0])"
   ]
  },
  {
   "cell_type": "code",
   "execution_count": 14,
   "metadata": {},
   "outputs": [
    {
     "name": "stdout",
     "output_type": "stream",
     "text": [
      "recall: 0.2210065645514223\n",
      "precison: 0.23444976076555024\n",
      "f1: 0.22752976874626454\n"
     ]
    }
   ],
   "source": [
    "recall = len(df_anno_found) / len(df_annotation_lung)\n",
    "precison = len(list_tp) / len(df_results_c)\n",
    "print('recall:', recall)\n",
    "print('precison:', precison)\n",
    "print('f1:', 2*recall*precison/(recall+precison))"
   ]
  },
  {
   "cell_type": "markdown",
   "metadata": {},
   "source": [
    "# 3. Predicted Results Analytic (medi)"
   ]
  },
  {
   "cell_type": "code",
   "execution_count": 15,
   "metadata": {},
   "outputs": [],
   "source": [
    "wtype = 'medi'"
   ]
  },
  {
   "cell_type": "code",
   "execution_count": 16,
   "metadata": {},
   "outputs": [
    {
     "name": "stdout",
     "output_type": "stream",
     "text": [
      "results: (25558, 7) distinct lung: 100\n"
     ]
    }
   ],
   "source": [
    "df_results_d = pd.read_csv(filepath_or_buffer=settings.SUBMISSION_DIR + 'train/tasks_' + wtype +'.csv', \n",
    "                            index_col=['seriesuid'])\n",
    "df_results_d.index = df_results_d.index.astype('str')\n",
    "\n",
    "print('results:', df_results_d.shape, 'distinct lung:', len(set(df_results_d.index)))"
   ]
  },
  {
   "cell_type": "code",
   "execution_count": 17,
   "metadata": {},
   "outputs": [
    {
     "name": "stdout",
     "output_type": "stream",
     "text": [
      "(252, 16) 66\n"
     ]
    },
    {
     "name": "stderr",
     "output_type": "stream",
     "text": [
      "/usr/local/lib/python3.6/dist-packages/ipykernel_launcher.py:1: FutureWarning: \n",
      "Passing list-likes to .loc or [] with any missing label will raise\n",
      "KeyError in the future, you can use .reindex() as an alternative.\n",
      "\n",
      "See the documentation here:\n",
      "https://pandas.pydata.org/pandas-docs/stable/indexing.html#deprecate-loc-reindex-listlike\n",
      "  \"\"\"Entry point for launching an IPython kernel.\n"
     ]
    }
   ],
   "source": [
    "df_annotation_medi = df_annotation.loc[set(df_results_d.index)]\n",
    "df_annotation_medi = df_annotation_medi[(df_annotation_medi['label']==31)|(df_annotation_medi['label']==32)]\n",
    "print(df_annotation_medi.shape, len(set(df_annotation_medi.index)))"
   ]
  },
  {
   "cell_type": "code",
   "execution_count": 18,
   "metadata": {},
   "outputs": [
    {
     "name": "stderr",
     "output_type": "stream",
     "text": [
      "100%|██████████| 100/100 [00:17<00:00,  3.62it/s]\n"
     ]
    }
   ],
   "source": [
    "list_pos = []\n",
    "list_anno = []\n",
    "list_neg = []\n",
    "for uid in tqdm(set(df_results_d.index)):\n",
    "    if uid not in df_annotation_medi.index:\n",
    "        continue\n",
    "        \n",
    "    predicts = df_results_d.loc[[uid]]\n",
    "    labels = df_annotation_medi.loc[[uid]]\n",
    "    meta = df_meta_train.loc[uid] # slice\n",
    "    \n",
    "    if len(predicts) == 0 or len(labels) == 0:\n",
    "        continue\n",
    "        \n",
    "    for _, c in predicts.iterrows():\n",
    "        vcoordX, vcoordY, vcoordZ = c.vcoordX, c.vcoordY, c.vcoordZ\n",
    "        \n",
    "        flag_pass = False\n",
    "        for _, l in labels.iterrows():          \n",
    "            dist_c = np.linalg.norm(np.array([vcoordX, vcoordY, vcoordZ]) - np.array([l.vcoordX, l.vcoordY, l.vcoordZ]))\n",
    "            dist_d = np.linalg.norm(np.array([l.diameterX/2, l.diameterY/2, l.diameterZ/2]))\n",
    "            if (dist_c - dist_d) <= 0:\n",
    "                flag_pass = True\n",
    "                list_anno.append(l)\n",
    "                list_pos.append((c, l['label'])) \n",
    "                break\n",
    "        \n",
    "        if not flag_pass:\n",
    "            list_neg.append((c, 0))\n",
    "    "
   ]
  },
  {
   "cell_type": "code",
   "execution_count": 19,
   "metadata": {},
   "outputs": [
    {
     "name": "stdout",
     "output_type": "stream",
     "text": [
      "pos/total: 243 / 25558\n",
      "distinct anno: 116 / 243 -> 252\n"
     ]
    }
   ],
   "source": [
    "df_anno_found = pd.DataFrame(list_anno)\n",
    "df_anno_found = df_anno_found.drop_duplicates()\n",
    "\n",
    "print('pos/total:', len(list_pos), '/', df_results_d.shape[0])\n",
    "print('distinct anno:', df_anno_found.shape[0], '/', len(list_anno), '->', df_annotation_medi.shape[0])"
   ]
  },
  {
   "cell_type": "code",
   "execution_count": 20,
   "metadata": {},
   "outputs": [
    {
     "name": "stdout",
     "output_type": "stream",
     "text": [
      "recall: 0.4603174603174603\n",
      "precison: 0.009507786211753659\n",
      "f1: 0.01863075700834511\n"
     ]
    }
   ],
   "source": [
    "recall = len(df_anno_found) / len(df_annotation_medi)\n",
    "precison = len(list_pos) / len(df_results_d)\n",
    "print('recall:', recall)\n",
    "print('precison:', precison)\n",
    "print('f1:', 2*recall*precison/(recall+precison))"
   ]
  },
  {
   "cell_type": "code",
   "execution_count": 21,
   "metadata": {},
   "outputs": [],
   "source": [
    "df = df_anno_found.copy()"
   ]
  },
  {
   "cell_type": "markdown",
   "metadata": {},
   "source": [
    "## Classification"
   ]
  },
  {
   "cell_type": "code",
   "execution_count": 22,
   "metadata": {},
   "outputs": [
    {
     "name": "stdout",
     "output_type": "stream",
     "text": [
      "results: (928, 6) distinct lung: 96\n"
     ]
    }
   ],
   "source": [
    "df_results_c = pd.read_csv(filepath_or_buffer=settings.SUBMISSION_DIR + 'train/submission_' + wtype +'.csv', \n",
    "                           index_col=['seriesuid'])\n",
    "df_results_c.index = df_results_c.index.astype('str')\n",
    "\n",
    "print('results:', df_results_c.shape, 'distinct lung:', len(set(df_results_c.index)))"
   ]
  },
  {
   "cell_type": "code",
   "execution_count": 23,
   "metadata": {},
   "outputs": [
    {
     "name": "stdout",
     "output_type": "stream",
     "text": [
      "(928, 6)\n"
     ]
    }
   ],
   "source": [
    "threshold_probability = 0.7\n",
    "df_results_c = df_results_c[df_results_c['probability'] >= threshold_probability]\n",
    "print(df_results_c.shape)"
   ]
  },
  {
   "cell_type": "code",
   "execution_count": 24,
   "metadata": {
    "scrolled": false
   },
   "outputs": [
    {
     "name": "stderr",
     "output_type": "stream",
     "text": [
      " 76%|███████▌  | 73/96 [00:00<00:00, 84.06it/s]"
     ]
    },
    {
     "name": "stdout",
     "output_type": "stream",
     "text": [
      "32 31.0\n",
      "32 31.0\n",
      "32 31.0\n",
      "32 31.0\n",
      "31 32.0\n",
      "32 31.0\n"
     ]
    },
    {
     "name": "stderr",
     "output_type": "stream",
     "text": [
      "100%|██████████| 96/96 [00:01<00:00, 84.60it/s]\n"
     ]
    }
   ],
   "source": [
    "list_tp = []\n",
    "list_anno_c = []\n",
    "list_err = []\n",
    "for uid in tqdm(set(df_results_c.index)):\n",
    "    if uid not in df_annotation_medi.index:\n",
    "        continue\n",
    "        \n",
    "    predicts = df_results_c.loc[[uid]]\n",
    "    labels = df_annotation_medi.loc[[uid]]\n",
    "    meta = df_meta_train.loc[uid] # slice\n",
    "    \n",
    "    if len(predicts) == 0 or len(labels) == 0:\n",
    "        continue\n",
    "        \n",
    "    for _, c in predicts.iterrows():\n",
    "        vcoordX, vcoordY, vcoordZ = c.coordX - meta.originX, c.coordY - meta.originY, c.coordZ - meta.originZ\n",
    "        \n",
    "        flag_pass = False\n",
    "        for _, l in labels.iterrows():\n",
    "            dist_c = np.linalg.norm(np.array([vcoordX, vcoordY, vcoordZ]) - np.array([l.vcoordX, l.vcoordY, l.vcoordZ]))\n",
    "            dist_d = np.linalg.norm(np.array([l.diameterX/2, l.diameterY/2, l.diameterZ/2]))\n",
    "            if (dist_c - dist_d) <= 0:\n",
    "                if int(c['class']) == int(l.label):\n",
    "                    list_anno_c.append(l)\n",
    "                    list_tp.append(c)\n",
    "                    break\n",
    "                else:\n",
    "                    print(c['class'], l['label'])\n",
    "                    list_err.append(c)\n",
    "                    break\n",
    "    "
   ]
  },
  {
   "cell_type": "code",
   "execution_count": 25,
   "metadata": {},
   "outputs": [
    {
     "name": "stdout",
     "output_type": "stream",
     "text": [
      "pos / total: 225 / 928\n",
      "fpos(label) / total: 6 / 928\n",
      "distinct anno: 112 / 225 -> 252\n"
     ]
    }
   ],
   "source": [
    "df_anno_found = pd.DataFrame(list_anno_c)\n",
    "df_anno_found = df_anno_found.drop_duplicates()\n",
    "\n",
    "print('pos / total:', len(list_tp), '/', df_results_c.shape[0])\n",
    "print('fpos(label) / total:', len(list_err), '/', df_results_c.shape[0])\n",
    "print('distinct anno:', df_anno_found.shape[0], '/', len(list_anno_c), '->', df_annotation_medi.shape[0])"
   ]
  },
  {
   "cell_type": "code",
   "execution_count": 26,
   "metadata": {},
   "outputs": [
    {
     "name": "stdout",
     "output_type": "stream",
     "text": [
      "recall: 0.4444444444444444\n",
      "precison: 0.24245689655172414\n",
      "f1: 0.31375283249084884\n"
     ]
    }
   ],
   "source": [
    "recall = len(df_anno_found) / len(df_annotation_medi)\n",
    "precison = len(list_tp) / len(df_results_c)\n",
    "print('recall:', recall)\n",
    "print('precison:', precison)\n",
    "print('f1:', 2*recall*precison/(recall+precison))"
   ]
  },
  {
   "cell_type": "markdown",
   "metadata": {},
   "source": [
    "recall: 0.4603174603174603\n",
    "precison: 0.03868797308662742\n",
    "f1: 0.07137697637711016"
   ]
  },
  {
   "cell_type": "code",
   "execution_count": null,
   "metadata": {},
   "outputs": [],
   "source": []
  }
 ],
 "metadata": {
  "kernelspec": {
   "display_name": "Python 3",
   "language": "python",
   "name": "python3"
  },
  "language_info": {
   "codemirror_mode": {
    "name": "ipython",
    "version": 3
   },
   "file_extension": ".py",
   "mimetype": "text/x-python",
   "name": "python",
   "nbconvert_exporter": "python",
   "pygments_lexer": "ipython3",
   "version": "3.6.8"
  }
 },
 "nbformat": 4,
 "nbformat_minor": 2
}
