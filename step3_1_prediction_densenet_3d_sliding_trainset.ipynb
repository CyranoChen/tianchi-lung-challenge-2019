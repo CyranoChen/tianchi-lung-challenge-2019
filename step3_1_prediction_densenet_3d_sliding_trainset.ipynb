{
 "cells": [
  {
   "cell_type": "code",
   "execution_count": 1,
   "metadata": {},
   "outputs": [
    {
     "name": "stdout",
     "output_type": "stream",
     "text": [
      "Python 3.6.8 (default, Jan 14 2019, 11:02:34) \n",
      "[GCC 8.0.1 20180414 (experimental) [trunk revision 259383]] on linux\n",
      "numpy 1.16.4\n",
      "pandas 0.24.2\n",
      "opencv2 4.1.0\n",
      "sklearn 0.21.2\n",
      "tensorflow 1.14.0\n",
      "keras 2.2.4-tf\n"
     ]
    }
   ],
   "source": [
    "# -*- coding: utf-8 -*-\n",
    "import sys; print('Python %s on %s' % (sys.version, sys.platform))\n",
    "import os\n",
    "import time\n",
    "import json\n",
    "from glob import glob, iglob\n",
    "from tqdm import tqdm\n",
    "import matplotlib.pyplot as plt\n",
    "\n",
    "import numpy as np; print('numpy', np.__version__)\n",
    "import pandas as pd; print('pandas', pd.__version__)\n",
    "import cv2; print('opencv2', cv2.__version__)\n",
    "import sklearn; print('sklearn', sklearn.__version__)\n",
    "import tensorflow as tf; print('tensorflow', tf.__version__)\n",
    "import tensorflow.keras as keras; print('keras', keras.__version__)\n",
    "\n",
    "import settings\n",
    "import helper\n",
    "import visual"
   ]
  },
  {
   "cell_type": "markdown",
   "metadata": {},
   "source": [
    "# 1. Load Meta File and Annotation"
   ]
  },
  {
   "cell_type": "code",
   "execution_count": 2,
   "metadata": {},
   "outputs": [
    {
     "name": "stdout",
     "output_type": "stream",
     "text": [
      "meta_train: (1470, 10) \n",
      " meta_test: (145, 10)\n"
     ]
    }
   ],
   "source": [
    "df_meta_train = pd.read_csv(filepath_or_buffer=settings.PREPROCESS_TRAIN_META_FILE, index_col=['seriesuid'])\n",
    "df_meta_train.index = df_meta_train.index.astype('str')\n",
    "df_meta_test = pd.read_csv(filepath_or_buffer=settings.PREPROCESS_TEST_META_FILE, index_col=['seriesuid'])\n",
    "df_meta_test.index = df_meta_test.index.astype('str')\n",
    "\n",
    "print('meta_train:', df_meta_train.shape, '\\n', 'meta_test:', df_meta_test.shape)"
   ]
  },
  {
   "cell_type": "code",
   "execution_count": 3,
   "metadata": {},
   "outputs": [
    {
     "name": "stdout",
     "output_type": "stream",
     "text": [
      "annotation: (12218, 16) distinct lung: 1436\n"
     ]
    }
   ],
   "source": [
    "df_annotation = pd.read_csv(filepath_or_buffer=settings.PREPROCESS_ANNOTATION_FILE, index_col=['seriesuid'])\n",
    "df_annotation.index = df_annotation.index.astype('str')\n",
    "df_annotation['label'] = df_annotation['label'].astype('int')\n",
    "print('annotation:', df_annotation.shape, 'distinct lung:', len(set(df_annotation.index)))"
   ]
  },
  {
   "cell_type": "code",
   "execution_count": 4,
   "metadata": {},
   "outputs": [
    {
     "data": {
      "text/html": [
       "<div>\n",
       "<style scoped>\n",
       "    .dataframe tbody tr th:only-of-type {\n",
       "        vertical-align: middle;\n",
       "    }\n",
       "\n",
       "    .dataframe tbody tr th {\n",
       "        vertical-align: top;\n",
       "    }\n",
       "\n",
       "    .dataframe thead th {\n",
       "        text-align: right;\n",
       "    }\n",
       "</style>\n",
       "<table border=\"1\" class=\"dataframe\">\n",
       "  <thead>\n",
       "    <tr style=\"text-align: right;\">\n",
       "      <th></th>\n",
       "      <th>width</th>\n",
       "      <th>height</th>\n",
       "      <th>slice</th>\n",
       "      <th>vcoordX</th>\n",
       "      <th>vcoordY</th>\n",
       "      <th>vcoordZ</th>\n",
       "      <th>diameterX</th>\n",
       "      <th>diameterY</th>\n",
       "      <th>diameterZ</th>\n",
       "      <th>originX</th>\n",
       "      <th>originY</th>\n",
       "      <th>originZ</th>\n",
       "      <th>spacingX</th>\n",
       "      <th>spacingY</th>\n",
       "      <th>spacingZ</th>\n",
       "      <th>label</th>\n",
       "    </tr>\n",
       "    <tr>\n",
       "      <th>seriesuid</th>\n",
       "      <th></th>\n",
       "      <th></th>\n",
       "      <th></th>\n",
       "      <th></th>\n",
       "      <th></th>\n",
       "      <th></th>\n",
       "      <th></th>\n",
       "      <th></th>\n",
       "      <th></th>\n",
       "      <th></th>\n",
       "      <th></th>\n",
       "      <th></th>\n",
       "      <th></th>\n",
       "      <th></th>\n",
       "      <th></th>\n",
       "      <th></th>\n",
       "    </tr>\n",
       "  </thead>\n",
       "  <tbody>\n",
       "    <tr>\n",
       "      <th>671748</th>\n",
       "      <td>350</td>\n",
       "      <td>350</td>\n",
       "      <td>250</td>\n",
       "      <td>187.988281</td>\n",
       "      <td>214.648438</td>\n",
       "      <td>180.0</td>\n",
       "      <td>3.417969</td>\n",
       "      <td>6.152344</td>\n",
       "      <td>5.0</td>\n",
       "      <td>-155.048233</td>\n",
       "      <td>-174.658203</td>\n",
       "      <td>1283.005127</td>\n",
       "      <td>0.683594</td>\n",
       "      <td>0.683594</td>\n",
       "      <td>5.0</td>\n",
       "      <td>31</td>\n",
       "    </tr>\n",
       "    <tr>\n",
       "      <th>522706</th>\n",
       "      <td>370</td>\n",
       "      <td>370</td>\n",
       "      <td>252</td>\n",
       "      <td>188.251891</td>\n",
       "      <td>170.185491</td>\n",
       "      <td>42.0</td>\n",
       "      <td>10.117184</td>\n",
       "      <td>8.671872</td>\n",
       "      <td>7.0</td>\n",
       "      <td>-189.899994</td>\n",
       "      <td>-185.000000</td>\n",
       "      <td>-816.700012</td>\n",
       "      <td>0.722656</td>\n",
       "      <td>0.722656</td>\n",
       "      <td>7.0</td>\n",
       "      <td>31</td>\n",
       "    </tr>\n",
       "    <tr>\n",
       "      <th>527797</th>\n",
       "      <td>264</td>\n",
       "      <td>264</td>\n",
       "      <td>290</td>\n",
       "      <td>172.734375</td>\n",
       "      <td>135.867188</td>\n",
       "      <td>205.0</td>\n",
       "      <td>7.734375</td>\n",
       "      <td>8.250000</td>\n",
       "      <td>5.0</td>\n",
       "      <td>-141.742188</td>\n",
       "      <td>-270.742188</td>\n",
       "      <td>-531.000000</td>\n",
       "      <td>0.515625</td>\n",
       "      <td>0.515625</td>\n",
       "      <td>5.0</td>\n",
       "      <td>31</td>\n",
       "    </tr>\n",
       "    <tr>\n",
       "      <th>675937</th>\n",
       "      <td>350</td>\n",
       "      <td>350</td>\n",
       "      <td>285</td>\n",
       "      <td>232.080078</td>\n",
       "      <td>244.726562</td>\n",
       "      <td>153.0</td>\n",
       "      <td>8.203125</td>\n",
       "      <td>11.621094</td>\n",
       "      <td>10.0</td>\n",
       "      <td>-161.584900</td>\n",
       "      <td>-174.658203</td>\n",
       "      <td>-100.071533</td>\n",
       "      <td>0.683594</td>\n",
       "      <td>0.683594</td>\n",
       "      <td>5.0</td>\n",
       "      <td>5</td>\n",
       "    </tr>\n",
       "    <tr>\n",
       "      <th>656221</th>\n",
       "      <td>350</td>\n",
       "      <td>350</td>\n",
       "      <td>270</td>\n",
       "      <td>278.906250</td>\n",
       "      <td>175.000000</td>\n",
       "      <td>165.0</td>\n",
       "      <td>4.785156</td>\n",
       "      <td>6.152344</td>\n",
       "      <td>5.0</td>\n",
       "      <td>-172.479324</td>\n",
       "      <td>-174.658203</td>\n",
       "      <td>-56.745972</td>\n",
       "      <td>0.683594</td>\n",
       "      <td>0.683594</td>\n",
       "      <td>5.0</td>\n",
       "      <td>1</td>\n",
       "    </tr>\n",
       "    <tr>\n",
       "      <th>525893</th>\n",
       "      <td>426</td>\n",
       "      <td>426</td>\n",
       "      <td>275</td>\n",
       "      <td>203.015625</td>\n",
       "      <td>260.425781</td>\n",
       "      <td>102.0</td>\n",
       "      <td>7.488281</td>\n",
       "      <td>12.480469</td>\n",
       "      <td>10.0</td>\n",
       "      <td>-195.583984</td>\n",
       "      <td>-352.583984</td>\n",
       "      <td>-358.600006</td>\n",
       "      <td>0.832031</td>\n",
       "      <td>0.832031</td>\n",
       "      <td>5.0</td>\n",
       "      <td>31</td>\n",
       "    </tr>\n",
       "    <tr>\n",
       "      <th>680265</th>\n",
       "      <td>350</td>\n",
       "      <td>350</td>\n",
       "      <td>325</td>\n",
       "      <td>258.056641</td>\n",
       "      <td>224.902344</td>\n",
       "      <td>145.0</td>\n",
       "      <td>5.468750</td>\n",
       "      <td>4.785156</td>\n",
       "      <td>5.0</td>\n",
       "      <td>-184.826355</td>\n",
       "      <td>-174.658203</td>\n",
       "      <td>-366.706055</td>\n",
       "      <td>0.683594</td>\n",
       "      <td>0.683594</td>\n",
       "      <td>5.0</td>\n",
       "      <td>1</td>\n",
       "    </tr>\n",
       "    <tr>\n",
       "      <th>697234</th>\n",
       "      <td>386</td>\n",
       "      <td>386</td>\n",
       "      <td>250</td>\n",
       "      <td>255.197266</td>\n",
       "      <td>128.164062</td>\n",
       "      <td>170.0</td>\n",
       "      <td>6.031250</td>\n",
       "      <td>6.785156</td>\n",
       "      <td>5.0</td>\n",
       "      <td>-182.623047</td>\n",
       "      <td>-332.623047</td>\n",
       "      <td>-672.599976</td>\n",
       "      <td>0.753906</td>\n",
       "      <td>0.753906</td>\n",
       "      <td>5.0</td>\n",
       "      <td>1</td>\n",
       "    </tr>\n",
       "    <tr>\n",
       "      <th>683084</th>\n",
       "      <td>350</td>\n",
       "      <td>350</td>\n",
       "      <td>260</td>\n",
       "      <td>223.193359</td>\n",
       "      <td>179.785156</td>\n",
       "      <td>230.0</td>\n",
       "      <td>6.835938</td>\n",
       "      <td>6.152344</td>\n",
       "      <td>5.0</td>\n",
       "      <td>-176.837097</td>\n",
       "      <td>-174.658203</td>\n",
       "      <td>-86.550171</td>\n",
       "      <td>0.683594</td>\n",
       "      <td>0.683594</td>\n",
       "      <td>5.0</td>\n",
       "      <td>1</td>\n",
       "    </tr>\n",
       "    <tr>\n",
       "      <th>657689</th>\n",
       "      <td>475</td>\n",
       "      <td>475</td>\n",
       "      <td>330</td>\n",
       "      <td>292.236328</td>\n",
       "      <td>168.847656</td>\n",
       "      <td>160.0</td>\n",
       "      <td>6.494141</td>\n",
       "      <td>6.494141</td>\n",
       "      <td>5.0</td>\n",
       "      <td>-235.036133</td>\n",
       "      <td>-377.036133</td>\n",
       "      <td>-744.099976</td>\n",
       "      <td>0.927734</td>\n",
       "      <td>0.927734</td>\n",
       "      <td>5.0</td>\n",
       "      <td>1</td>\n",
       "    </tr>\n",
       "  </tbody>\n",
       "</table>\n",
       "</div>"
      ],
      "text/plain": [
       "           width  height  slice     vcoordX     vcoordY  vcoordZ  diameterX  \\\n",
       "seriesuid                                                                     \n",
       "671748       350     350    250  187.988281  214.648438    180.0   3.417969   \n",
       "522706       370     370    252  188.251891  170.185491     42.0  10.117184   \n",
       "527797       264     264    290  172.734375  135.867188    205.0   7.734375   \n",
       "675937       350     350    285  232.080078  244.726562    153.0   8.203125   \n",
       "656221       350     350    270  278.906250  175.000000    165.0   4.785156   \n",
       "525893       426     426    275  203.015625  260.425781    102.0   7.488281   \n",
       "680265       350     350    325  258.056641  224.902344    145.0   5.468750   \n",
       "697234       386     386    250  255.197266  128.164062    170.0   6.031250   \n",
       "683084       350     350    260  223.193359  179.785156    230.0   6.835938   \n",
       "657689       475     475    330  292.236328  168.847656    160.0   6.494141   \n",
       "\n",
       "           diameterY  diameterZ     originX     originY      originZ  \\\n",
       "seriesuid                                                              \n",
       "671748      6.152344        5.0 -155.048233 -174.658203  1283.005127   \n",
       "522706      8.671872        7.0 -189.899994 -185.000000  -816.700012   \n",
       "527797      8.250000        5.0 -141.742188 -270.742188  -531.000000   \n",
       "675937     11.621094       10.0 -161.584900 -174.658203  -100.071533   \n",
       "656221      6.152344        5.0 -172.479324 -174.658203   -56.745972   \n",
       "525893     12.480469       10.0 -195.583984 -352.583984  -358.600006   \n",
       "680265      4.785156        5.0 -184.826355 -174.658203  -366.706055   \n",
       "697234      6.785156        5.0 -182.623047 -332.623047  -672.599976   \n",
       "683084      6.152344        5.0 -176.837097 -174.658203   -86.550171   \n",
       "657689      6.494141        5.0 -235.036133 -377.036133  -744.099976   \n",
       "\n",
       "           spacingX  spacingY  spacingZ  label  \n",
       "seriesuid                                       \n",
       "671748     0.683594  0.683594       5.0     31  \n",
       "522706     0.722656  0.722656       7.0     31  \n",
       "527797     0.515625  0.515625       5.0     31  \n",
       "675937     0.683594  0.683594       5.0      5  \n",
       "656221     0.683594  0.683594       5.0      1  \n",
       "525893     0.832031  0.832031       5.0     31  \n",
       "680265     0.683594  0.683594       5.0      1  \n",
       "697234     0.753906  0.753906       5.0      1  \n",
       "683084     0.683594  0.683594       5.0      1  \n",
       "657689     0.927734  0.927734       5.0      1  "
      ]
     },
     "execution_count": 4,
     "metadata": {},
     "output_type": "execute_result"
    }
   ],
   "source": [
    "df_annotation.sample(10)"
   ]
  },
  {
   "cell_type": "code",
   "execution_count": 5,
   "metadata": {
    "scrolled": true
   },
   "outputs": [
    {
     "name": "stdout",
     "output_type": "stream",
     "text": [
      "annotation 结节[1] (3264, 16)\n"
     ]
    },
    {
     "data": {
      "image/png": "[encoded data removed]",
      "text/plain": [
       "<Figure size 1296x864 with 6 Axes>"
      ]
     },
     "metadata": {
      "needs_background": "light"
     },
     "output_type": "display_data"
    }
   ],
   "source": [
    "visual.plot_annotation(df_annotation[df_annotation['label']==1], title='annotation 结节[1]')"
   ]
  },
  {
   "cell_type": "code",
   "execution_count": 6,
   "metadata": {
    "scrolled": true
   },
   "outputs": [
    {
     "name": "stdout",
     "output_type": "stream",
     "text": [
      "annotation 索条[5] (3613, 16)\n"
     ]
    },
    {
     "data": {
      "image/png": "[encoded data removed]",
      "text/plain": [
       "<Figure size 1296x864 with 6 Axes>"
      ]
     },
     "metadata": {
      "needs_background": "light"
     },
     "output_type": "display_data"
    }
   ],
   "source": [
    "visual.plot_annotation(df_annotation[df_annotation['label']==5], title='annotation 索条[5]')"
   ]
  },
  {
   "cell_type": "code",
   "execution_count": 7,
   "metadata": {
    "scrolled": true
   },
   "outputs": [
    {
     "name": "stdout",
     "output_type": "stream",
     "text": [
      "annotation 动脉硬化或钙化[31] (4201, 16)\n"
     ]
    },
    {
     "data": {
      "image/png": "[encoded data removed]",
      "text/plain": [
       "<Figure size 1296x864 with 6 Axes>"
      ]
     },
     "metadata": {
      "needs_background": "light"
     },
     "output_type": "display_data"
    }
   ],
   "source": [
    "visual.plot_annotation(df_annotation[df_annotation['label']==31], title='annotation 动脉硬化或钙化[31]')"
   ]
  },
  {
   "cell_type": "code",
   "execution_count": 8,
   "metadata": {
    "scrolled": true
   },
   "outputs": [
    {
     "name": "stdout",
     "output_type": "stream",
     "text": [
      "annotation 淋巴结钙化[32] (1140, 16)\n"
     ]
    },
    {
     "data": {
      "image/png": "[encoded data removed]",
      "text/plain": [
       "<Figure size 1296x864 with 6 Axes>"
      ]
     },
     "metadata": {
      "needs_background": "light"
     },
     "output_type": "display_data"
    }
   ],
   "source": [
    "visual.plot_annotation(df_annotation[df_annotation['label']==32], title='annotation 淋巴结钙化[32]')"
   ]
  },
  {
   "cell_type": "markdown",
   "metadata": {},
   "source": [
    "# 2. Generate Center Coords by Sliding Window"
   ]
  },
  {
   "cell_type": "code",
   "execution_count": 9,
   "metadata": {},
   "outputs": [
    {
     "name": "stdout",
     "output_type": "stream",
     "text": [
      "distinct lungs in trainset: 1470\n"
     ]
    }
   ],
   "source": [
    "lungs = list(set(df_meta_train.index))\n",
    "print('distinct lungs in trainset:', len(lungs))"
   ]
  },
  {
   "cell_type": "code",
   "execution_count": 10,
   "metadata": {},
   "outputs": [
    {
     "name": "stderr",
     "output_type": "stream",
     "text": [
      "100%|██████████| 1470/1470 [00:04<00:00, 334.60it/s]\n"
     ]
    }
   ],
   "source": [
    "list_train_tasks = []\n",
    "size = settings.CUBE_SIZE\n",
    "step = 32\n",
    "start = [ size//2, size//2, size//2 ] # z,y,x\n",
    "\n",
    "for uid in tqdm(lungs):\n",
    "    meta = df_meta_train.loc[uid] # slice\n",
    "    \n",
    "    for z in range(start[0], int(meta.slice), step):\n",
    "        for y in range(start[1], int(meta.height), step):\n",
    "            for x in range(start[2], int(meta.width), step):\n",
    "                task = {}\n",
    "                task['seriesuid'] = uid\n",
    "                task['vcoordX'] = x\n",
    "                task['vcoordY'] = y\n",
    "                task['vcoordZ'] = z\n",
    "                \n",
    "                # print(task)\n",
    "                list_train_tasks.append(task)"
   ]
  },
  {
   "cell_type": "code",
   "execution_count": 11,
   "metadata": {},
   "outputs": [
    {
     "name": "stdout",
     "output_type": "stream",
     "text": [
      "total: (1381375, 3) lung: 1470\n"
     ]
    }
   ],
   "source": [
    "df_train_tasks = pd.DataFrame(list_train_tasks, columns=['seriesuid','vcoordX','vcoordY','vcoordZ'])\n",
    "df_train_tasks = df_train_tasks.set_index('seriesuid')\n",
    "df_train_tasks.index = df_train_tasks.index.astype('str')\n",
    "\n",
    "print('total:', df_train_tasks.shape, 'lung:', len(set(df_train_tasks.index)))\n",
    "\n",
    "if not os.path.exists(settings.SUBMISSION_DIR + f'sliding{step}'):\n",
    "    os.mkdir(settings.SUBMISSION_DIR + f'sliding{step}')\n",
    "    \n",
    "df_train_tasks.to_csv(settings.SUBMISSION_DIR + f'sliding{step}/tasks_trainset.csv', encoding='utf-8')\n"
   ]
  },
  {
   "cell_type": "markdown",
   "metadata": {},
   "source": [
    "# 3. Predict Results by Task_test.csv"
   ]
  },
  {
   "cell_type": "code",
   "execution_count": 13,
   "metadata": {},
   "outputs": [
    {
     "name": "stderr",
     "output_type": "stream",
     "text": [
      "/usr/local/lib/python3.6/dist-packages/numpy/lib/arraysetops.py:569: FutureWarning: elementwise comparison failed; returning scalar instead, but in the future will perform elementwise comparison\n",
      "  mask |= (ar1 == a)\n"
     ]
    },
    {
     "name": "stdout",
     "output_type": "stream",
     "text": [
      "train tasks: (1381375, 3) distinct lung: 1470\n"
     ]
    }
   ],
   "source": [
    "df_train_tasks = pd.read_csv(filepath_or_buffer=settings.SUBMISSION_DIR + f'sliding{step}/tasks_trainset.csv', \n",
    "                            index_col=['seriesuid'])\n",
    "df_train_tasks.index = df_train_tasks.index.astype('str')\n",
    "\n",
    "print('train tasks:', df_train_tasks.shape, 'distinct lung:', len(set(df_train_tasks.index)))\n"
   ]
  },
  {
   "cell_type": "code",
   "execution_count": 14,
   "metadata": {},
   "outputs": [
    {
     "data": {
      "text/html": [
       "<div>\n",
       "<style scoped>\n",
       "    .dataframe tbody tr th:only-of-type {\n",
       "        vertical-align: middle;\n",
       "    }\n",
       "\n",
       "    .dataframe tbody tr th {\n",
       "        vertical-align: top;\n",
       "    }\n",
       "\n",
       "    .dataframe thead th {\n",
       "        text-align: right;\n",
       "    }\n",
       "</style>\n",
       "<table border=\"1\" class=\"dataframe\">\n",
       "  <thead>\n",
       "    <tr style=\"text-align: right;\">\n",
       "      <th></th>\n",
       "      <th>vcoordX</th>\n",
       "      <th>vcoordY</th>\n",
       "      <th>vcoordZ</th>\n",
       "    </tr>\n",
       "    <tr>\n",
       "      <th>seriesuid</th>\n",
       "      <th></th>\n",
       "      <th></th>\n",
       "      <th></th>\n",
       "    </tr>\n",
       "  </thead>\n",
       "  <tbody>\n",
       "    <tr>\n",
       "      <th>656373</th>\n",
       "      <td>64</td>\n",
       "      <td>192</td>\n",
       "      <td>320</td>\n",
       "    </tr>\n",
       "    <tr>\n",
       "      <th>680084</th>\n",
       "      <td>288</td>\n",
       "      <td>288</td>\n",
       "      <td>96</td>\n",
       "    </tr>\n",
       "    <tr>\n",
       "      <th>542603</th>\n",
       "      <td>320</td>\n",
       "      <td>160</td>\n",
       "      <td>256</td>\n",
       "    </tr>\n",
       "    <tr>\n",
       "      <th>664097</th>\n",
       "      <td>192</td>\n",
       "      <td>64</td>\n",
       "      <td>128</td>\n",
       "    </tr>\n",
       "    <tr>\n",
       "      <th>655557</th>\n",
       "      <td>224</td>\n",
       "      <td>224</td>\n",
       "      <td>128</td>\n",
       "    </tr>\n",
       "    <tr>\n",
       "      <th>627674</th>\n",
       "      <td>128</td>\n",
       "      <td>128</td>\n",
       "      <td>128</td>\n",
       "    </tr>\n",
       "    <tr>\n",
       "      <th>689196</th>\n",
       "      <td>64</td>\n",
       "      <td>256</td>\n",
       "      <td>256</td>\n",
       "    </tr>\n",
       "    <tr>\n",
       "      <th>650384</th>\n",
       "      <td>320</td>\n",
       "      <td>128</td>\n",
       "      <td>96</td>\n",
       "    </tr>\n",
       "    <tr>\n",
       "      <th>689153</th>\n",
       "      <td>128</td>\n",
       "      <td>160</td>\n",
       "      <td>32</td>\n",
       "    </tr>\n",
       "    <tr>\n",
       "      <th>696872</th>\n",
       "      <td>224</td>\n",
       "      <td>128</td>\n",
       "      <td>128</td>\n",
       "    </tr>\n",
       "  </tbody>\n",
       "</table>\n",
       "</div>"
      ],
      "text/plain": [
       "           vcoordX  vcoordY  vcoordZ\n",
       "seriesuid                           \n",
       "656373          64      192      320\n",
       "680084         288      288       96\n",
       "542603         320      160      256\n",
       "664097         192       64      128\n",
       "655557         224      224      128\n",
       "627674         128      128      128\n",
       "689196          64      256      256\n",
       "650384         320      128       96\n",
       "689153         128      160       32\n",
       "696872         224      128      128"
      ]
     },
     "execution_count": 14,
     "metadata": {},
     "output_type": "execute_result"
    }
   ],
   "source": [
    "df_train_tasks.sample(10)"
   ]
  },
  {
   "cell_type": "code",
   "execution_count": 15,
   "metadata": {},
   "outputs": [],
   "source": [
    "import tensorflow.keras.backend as K\n",
    "def preprocess_input(input, data_format=None):\n",
    "    \"\"\"Preprocesses a tensor encoding a batch of cubes.\n",
    "\n",
    "    # Arguments\n",
    "        x: input Numpy tensor, 5D. (m, d, h, w, c)\n",
    "        data_format: data format of the cube tensor.\n",
    "\n",
    "    # Returns\n",
    "        Preprocessed tensor.\n",
    "    \"\"\"\n",
    "    if data_format is None:\n",
    "        data_format = K.image_data_format()\n",
    "    assert data_format in {'channels_last', 'channels_first'}\n",
    "\n",
    "    # print(data_format, input.shape)\n",
    "\n",
    "    if data_format == 'channels_first':\n",
    "        if input.ndim == 4:\n",
    "            input = np.expand_dims(input, axis=0)\n",
    "            input[0, :, :, :] /= 255.\n",
    "        else:\n",
    "            input = np.expand_dims(input, axis=1)\n",
    "            input[:, 0, :, :, :] /= 255.           \n",
    "    else:\n",
    "        input = np.expand_dims(input, axis=-1)\n",
    "        input[..., 0] /= 255.\n",
    "\n",
    "    return input"
   ]
  },
  {
   "cell_type": "code",
   "execution_count": null,
   "metadata": {},
   "outputs": [
    {
     "name": "stderr",
     "output_type": "stream",
     "text": [
      "WARNING: Logging before flag parsing goes to stderr.\n",
      "W0719 01:16:22.315737 140153699325760 deprecation.py:506] From /usr/local/lib/python3.6/dist-packages/tensorflow/python/ops/init_ops.py:97: calling VarianceScaling.__init__ (from tensorflow.python.ops.init_ops) with dtype is deprecated and will be removed in a future version.\n",
      "Instructions for updating:\n",
      "Call initializer instance with the dtype argument instead of passing it to the constructor\n",
      "W0719 01:16:22.317486 140153699325760 deprecation.py:506] From /usr/local/lib/python3.6/dist-packages/tensorflow/python/ops/init_ops.py:97: calling Zeros.__init__ (from tensorflow.python.ops.init_ops) with dtype is deprecated and will be removed in a future version.\n",
      "Instructions for updating:\n",
      "Call initializer instance with the dtype argument instead of passing it to the constructor\n",
      "W0719 01:16:22.324265 140153699325760 deprecation.py:506] From /usr/local/lib/python3.6/dist-packages/tensorflow/python/ops/init_ops.py:97: calling Ones.__init__ (from tensorflow.python.ops.init_ops) with dtype is deprecated and will be removed in a future version.\n",
      "Instructions for updating:\n",
      "Call initializer instance with the dtype argument instead of passing it to the constructor\n",
      "W0719 01:16:22.707568 140153699325760 deprecation.py:506] From /usr/local/lib/python3.6/dist-packages/tensorflow/python/ops/init_ops.py:97: calling GlorotUniform.__init__ (from tensorflow.python.ops.init_ops) with dtype is deprecated and will be removed in a future version.\n",
      "Instructions for updating:\n",
      "Call initializer instance with the dtype argument instead of passing it to the constructor\n"
     ]
    }
   ],
   "source": [
    "from tensorflow.keras.models import load_model\n",
    "output_dir = './output/densenet3d/1563443228/'\n",
    "model = load_model(output_dir + \"model-best.hd5\")"
   ]
  },
  {
   "cell_type": "code",
   "execution_count": null,
   "metadata": {},
   "outputs": [],
   "source": [
    "list_results = []\n",
    "labels = [0, 1, 5, 31, 32]\n",
    "for uid in tqdm(set(df_train_tasks.index)):\n",
    "    tasks = df_train_tasks.loc[[uid]] # DataFrame\n",
    "    meta = df_meta_train.loc[uid] # slice\n",
    "    \n",
    "    print(uid, len(tasks))\n",
    "    print(meta)\n",
    "    \n",
    "    # load the lung as array\n",
    "    lung, mask = helper.load_lung_array(uid, int(meta.width), int(meta.height), int(meta.slice), mode='train')\n",
    "    \n",
    "    # build the X_test set by tasks\n",
    "    X_train = []\n",
    "    for idx, item in tasks.iterrows():\n",
    "        # patch without mask\n",
    "        cube = helper.get_cube_from_lung_array(lung, item.vcoordX, item.vcoordY, item.vcoordZ, \n",
    "                                               block_size=settings.CUBE_SIZE)\n",
    "        \n",
    "        X_train.append(cube.astype('float'))\n",
    "        \n",
    "    X_train = preprocess_input(np.asarray(X_train))\n",
    "    \n",
    "    # Make predictions\n",
    "    predictions_train = model.predict(X_train, batch_size=32, verbose=1)\n",
    "    # print(uid, len(tasks), predictions_test.shape)\n",
    "    \n",
    "    # Generate the results\n",
    "    for i in range(len(tasks)):\n",
    "        if np.argmax(predictions_train[i]) > 0:\n",
    "            category = int(np.argmax(predictions_train[i]))\n",
    "            probability = float(np.max(predictions_train[i]))\n",
    "            \n",
    "            result = {}\n",
    "            result['seriesuid'] = uid\n",
    "            result['coordX'] = tasks.iloc[i].vcoordX + meta.originX\n",
    "            result['coordY'] = tasks.iloc[i].vcoordY + meta.originY\n",
    "            result['coordZ'] = tasks.iloc[i].vcoordZ + meta.originZ\n",
    "            result['class'] = helper.get_origin_class_by_predicted_value(category, labels)\n",
    "            result['probability'] = probability\n",
    "            \n",
    "            list_results.append(result)\n",
    "            "
   ]
  },
  {
   "cell_type": "code",
   "execution_count": null,
   "metadata": {},
   "outputs": [],
   "source": [
    "df_results = pd.DataFrame(list_results, columns=['seriesuid','coordX','coordY','coordZ','class','probability'])\n",
    "df_results = df_results.set_index('seriesuid')\n",
    "df_results.index = df_results.index.astype('str')\n",
    "\n",
    "print('total:', df_results.shape, 'lung:', len(set(df_results.index)))\n",
    "\n",
    "if not os.path.exists(settings.SUBMISSION_DIR + f'sliding{step}'):\n",
    "    os.mkdir(settings.SUBMISSION_DIR + f'sliding{step}')\n",
    "    \n",
    "df_results.to_csv(settings.SUBMISSION_DIR + f'sliding{step}/submission.csv', encoding='utf-8')\n"
   ]
  },
  {
   "cell_type": "code",
   "execution_count": null,
   "metadata": {},
   "outputs": [],
   "source": [
    "df_results = pd.read_csv(filepath_or_buffer=settings.SUBMISSION_DIR + f'sliding{step}/submission.csv', \n",
    "                            index_col=['seriesuid'])\n",
    "df_results.index = df_results.index.astype('str')\n",
    "\n",
    "print('results:', df_results.shape, 'distinct lung:', len(set(df_results.index)))\n"
   ]
  },
  {
   "cell_type": "code",
   "execution_count": null,
   "metadata": {},
   "outputs": [],
   "source": [
    "df_results = df_results[df_results['probability'] > 0.7]\n",
    "print(df_results.shape)"
   ]
  },
  {
   "cell_type": "code",
   "execution_count": null,
   "metadata": {},
   "outputs": [],
   "source": [
    "df_results.to_csv(settings.SUBMISSION_DIR + f'sliding{step}/submission_filtered.csv', encoding='utf-8')"
   ]
  },
  {
   "cell_type": "code",
   "execution_count": null,
   "metadata": {},
   "outputs": [],
   "source": []
  }
 ],
 "metadata": {
  "kernelspec": {
   "display_name": "Python 3",
   "language": "python",
   "name": "python3"
  },
  "language_info": {
   "codemirror_mode": {
    "name": "ipython",
    "version": 3
   },
   "file_extension": ".py",
   "mimetype": "text/x-python",
   "name": "python",
   "nbconvert_exporter": "python",
   "pygments_lexer": "ipython3",
   "version": "3.6.8"
  }
 },
 "nbformat": 4,
 "nbformat_minor": 2
}
