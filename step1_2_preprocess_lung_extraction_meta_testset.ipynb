{
 "cells": [
  {
   "cell_type": "code",
   "execution_count": null,
   "metadata": {},
   "outputs": [],
   "source": [
    "# -*- coding: utf-8 -*-\n",
    "import sys; print('Python %s on %s' % (sys.version, sys.platform))\n",
    "import os\n",
    "import time\n",
    "import json\n",
    "from glob import glob, iglob\n",
    "from tqdm import tqdm\n",
    "import matplotlib.pyplot as plt\n",
    "\n",
    "import numpy as np; print('numpy', np.__version__)\n",
    "import pandas as pd; print('pandas', pd.__version__)\n",
    "import cv2; print('opencv2', cv2.__version__)\n",
    "import SimpleITK as itk; print(itk.Version())\n",
    "import scipy.ndimage; print('scipy', scipy.__version__)\n",
    "import skimage; print('skimage', skimage.__version__)\n",
    "from skimage import morphology, measure, segmentation, filters\n",
    "\n",
    "import settings\n",
    "import helper"
   ]
  },
  {
   "cell_type": "markdown",
   "metadata": {},
   "source": [
    "# Lung Extraction (Testset）"
   ]
  },
  {
   "cell_type": "code",
   "execution_count": null,
   "metadata": {
    "scrolled": false
   },
   "outputs": [],
   "source": [
    "list_meta_test = []\n",
    "for src_path in iglob(settings.RAW_TEST_DIR + '*.mhd'):\n",
    "    start_time = time.time()\n",
    "    # load lung and get property, convert to numpy.ndarray\n",
    "    itk_img = itk.ReadImage(src_path)\n",
    "    lung_id = src_path.split('/')[-1].strip('.mhd')\n",
    "         \n",
    "    origin = np.array(itk_img.GetOrigin())\n",
    "    spacing = np.array(itk_img.GetSpacing())   \n",
    "    rescale = spacing / settings.TARGET_VOXEL_MM\n",
    "    \n",
    "    lung_array = itk.GetArrayFromImage(itk_img)\n",
    "    num_z, height, width = lung_array.shape\n",
    "    width_res = int(np.round(width * rescale[0]))\n",
    "    height_res = int(np.round(height * rescale[1]))\n",
    "    slice_res = int(np.round(num_z * rescale[2]))\n",
    "    resample_size = np.array([width_res, height_res, slice_res])\n",
    "    \n",
    "    print('lung:', lung_id, type(lung_array), lung_array.shape, '(z,y,x)')\n",
    "    print('resample:', type(resample_size), resample_size, '(x,y,z)')\n",
    "    print('origin:', type(origin), origin, '(x,y,z)')\n",
    "    print('spacing:', type(spacing), spacing, '(x,y,z)')\n",
    "    print('rescale:', type(rescale), rescale, '(x,y,z)')\n",
    "    \n",
    "    # meta\n",
    "    meta = {\n",
    "        'seriesuid': lung_id,\n",
    "        'width': width_res,\n",
    "        'height': height_res,\n",
    "        'slice': slice_res,\n",
    "        'originX': origin[0],\n",
    "        'originY': origin[1],\n",
    "        'originZ': origin[2],\n",
    "        'spacingX': spacing[0],\n",
    "        'spacingY': spacing[1],\n",
    "        'spacingZ': spacing[2]\n",
    "    }\n",
    "    \n",
    "    # resample by scipy\n",
    "    real_resize_factor = np.array([rescale[2], rescale[1], rescale[0]]) # z,y,x\n",
    "    lung_array_res = scipy.ndimage.interpolation.zoom(lung_array, real_resize_factor, mode='nearest')\n",
    "    print('resampled lung:', lung_id, type(lung_array_res), lung_array_res.shape, '(z,y,x)')\n",
    "    print('time:', time.time() - start_time); time.sleep(1)\n",
    "    \n",
    "    # normalize in lung window\n",
    "    ww, wl = helper.get_window_size('lung')\n",
    "    print('lung_array_res_lnorm:', ww, wl)\n",
    "    lung_array_res_lnorm = helper.normalize(lung_array_res, ww=ww, wl=wl)\n",
    "    \n",
    "    # normalize in mediastinal window\n",
    "    ww, wl = helper.get_window_size('mediastinal')\n",
    "    print('lung_array_res_mnorm:', ww, wl)\n",
    "    lung_array_res_mnorm = helper.normalize(lung_array_res, ww=ww, wl=wl)\n",
    "        \n",
    "    # persist slice to disk\n",
    "    if not os.path.isdir(settings.PREPROCESS_TEST_DIR + lung_id):\n",
    "        os.mkdir(settings.PREPROCESS_TEST_DIR + lung_id)\n",
    "        \n",
    "    # segment lung\n",
    "    cap_sum_lung = 0\n",
    "    cap_sum_medi = 0\n",
    "    for i in tqdm(range(lung_array_res.shape[0])): #z,y,x\n",
    "        img = lung_array_res[i,:,:]\n",
    "        \n",
    "        # segment\n",
    "        visible = ((i+1)%(16*rescale[2])==0) & True\n",
    "        if visible:\n",
    "            print('slice no:', i)\n",
    "            \n",
    "        maskl, capacity = helper.get_segmented_lung(lung_array_res_lnorm[i,:,:], mode='lung', plot=False)\n",
    "        cap_sum_lung += capacity\n",
    "        \n",
    "        maskm, capacity = helper.get_segmented_lung(lung_array_res_mnorm[i,:,:], mode='medi', plot=visible)\n",
    "        cap_sum_medi += capacity\n",
    "        \n",
    "        \n",
    "        # lung window slice\n",
    "        cv2.imwrite(settings.PREPROCESS_TEST_DIR + lung_id + f'/{str(i).zfill(4)}.png', \n",
    "                    lung_array_res_lnorm[i,:,:])\n",
    "        \n",
    "        # mediastinal window slice\n",
    "        cv2.imwrite(settings.PREPROCESS_TEST_DIR + lung_id + f'/{str(i).zfill(4)}_medi.png', \n",
    "                    lung_array_res_mnorm[i,:,:])\n",
    "        \n",
    "        # mask slice\n",
    "        cv2.imwrite(settings.PREPROCESS_TEST_DIR + lung_id + f'/{str(i).zfill(4)}_maskl.png', \n",
    "                    maskl.astype(int)*255)   \n",
    "        cv2.imwrite(settings.PREPROCESS_TEST_DIR + lung_id + f'/{str(i).zfill(4)}_maskm.png', \n",
    "                    maskm.astype(int)*255)\n",
    "    \n",
    "    meta['segmented_lung'] = float(cap_sum_lung / np.product(resample_size))\n",
    "    meta['segmented_medi'] = float(cap_sum_medi / np.product(resample_size))\n",
    "    \n",
    "    list_meta_test.append(meta)\n",
    "    \n",
    "    print('-'*40, lung_id, meta['segmented_lung'], meta['segmented_medi'], len(list_meta_train), 'done', '\\n')\n",
    "    "
   ]
  },
  {
   "cell_type": "code",
   "execution_count": null,
   "metadata": {},
   "outputs": [],
   "source": [
    "columns = [k for k, v in list_meta_test[0].items()]\n",
    "columns"
   ]
  },
  {
   "cell_type": "code",
   "execution_count": null,
   "metadata": {},
   "outputs": [],
   "source": [
    "df_meta_test = pd.DataFrame(list_meta_test, columns=columns)\n",
    "df_meta_test = df_meta_test.set_index('seriesuid')\n",
    "df_meta_test.to_csv(settings.PREPROCESS_TEST_META_FILE, encoding='utf-8')\n"
   ]
  },
  {
   "cell_type": "code",
   "execution_count": null,
   "metadata": {},
   "outputs": [],
   "source": [
    "assert len(list_meta_test) == len(glob(settings.RAW_TEST_DIR + '*.mhd'))"
   ]
  },
  {
   "cell_type": "code",
   "execution_count": null,
   "metadata": {},
   "outputs": [],
   "source": []
  }
 ],
 "metadata": {
  "kernelspec": {
   "display_name": "Python 3",
   "language": "python",
   "name": "python3"
  },
  "language_info": {
   "codemirror_mode": {
    "name": "ipython",
    "version": 3
   },
   "file_extension": ".py",
   "mimetype": "text/x-python",
   "name": "python",
   "nbconvert_exporter": "python",
   "pygments_lexer": "ipython3",
   "version": "3.6.8"
  }
 },
 "nbformat": 4,
 "nbformat_minor": 2
}
