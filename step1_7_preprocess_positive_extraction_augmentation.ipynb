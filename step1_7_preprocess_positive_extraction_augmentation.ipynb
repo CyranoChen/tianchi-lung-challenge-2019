{
 "cells": [
  {
   "cell_type": "code",
   "execution_count": null,
   "metadata": {},
   "outputs": [],
   "source": [
    "# -*- coding: utf-8 -*-\n",
    "import sys; print('Python %s on %s' % (sys.version, sys.platform))\n",
    "import os\n",
    "import time\n",
    "import json\n",
    "from glob import glob, iglob\n",
    "from tqdm import tqdm\n",
    "import matplotlib.pyplot as plt\n",
    "\n",
    "import numpy as np; print('numpy', np.__version__)\n",
    "import pandas as pd; print('pandas', pd.__version__)\n",
    "import cv2; print('opencv2', cv2.__version__)\n",
    "\n",
    "import settings\n",
    "import helper\n",
    "import visual"
   ]
  },
  {
   "cell_type": "markdown",
   "metadata": {},
   "source": [
    "# 1. Load Annotation"
   ]
  },
  {
   "cell_type": "code",
   "execution_count": null,
   "metadata": {},
   "outputs": [],
   "source": [
    "df_annotation = pd.read_csv(filepath_or_buffer=settings.PREPROCESS_ANNOTATION_FILE, index_col=['seriesuid'])\n",
    "df_annotation.index = df_annotation.index.astype('str')\n",
    "print('annotation:', df_annotation.shape, 'distinct lung:', len(set(df_annotation.index)))"
   ]
  },
  {
   "cell_type": "code",
   "execution_count": null,
   "metadata": {},
   "outputs": [],
   "source": [
    "df_annotation.sample(10)"
   ]
  },
  {
   "cell_type": "code",
   "execution_count": null,
   "metadata": {},
   "outputs": [],
   "source": [
    "lungs = list(set(df_annotation.index))\n",
    "print('distinct lungs in annotation:', len(lungs))"
   ]
  },
  {
   "cell_type": "markdown",
   "metadata": {},
   "source": [
    "# 2. Generate Positive Augmenatation Labels"
   ]
  },
  {
   "cell_type": "code",
   "execution_count": null,
   "metadata": {},
   "outputs": [],
   "source": [
    "IS_GENERATE = True"
   ]
  },
  {
   "cell_type": "code",
   "execution_count": null,
   "metadata": {
    "scrolled": false
   },
   "outputs": [],
   "source": [
    "import random\n",
    "if IS_GENERATE:\n",
    "    list_pos_aug = []\n",
    "    min_offset_limit = settings.AUGMENTATION_MIN_OFFSET_LIMIT\n",
    "    for uid in tqdm(lungs):\n",
    "        labels = df_annotation.loc[[uid]] # dataframe\n",
    "\n",
    "        for idx, item in labels.iterrows():\n",
    "            vcoordX, vcoordY, vcoordZ = item.vcoordX, item.vcoordY, item.vcoordZ\n",
    "            limitX = int(item.diameterX // 2) if item.diameterX < (settings.CUBE_POS_SIZE // 2) else min_offset_limit\n",
    "            limitY = int(item.diameterY // 2) if item.diameterY < (settings.CUBE_POS_SIZE // 2) else min_offset_limit\n",
    "            limitZ = int(item.diameterZ // 2) if item.diameterZ < (settings.CUBE_POS_SIZE // 2) else min_offset_limit\n",
    "\n",
    "            for i in range(settings.AUGMENTATION_RATE):\n",
    "                limitX = max(limitX, min_offset_limit)\n",
    "                limitY = max(limitY, min_offset_limit)\n",
    "                limitZ = max(limitZ, min_offset_limit)\n",
    "                offsetX = random.randrange(-limitX, limitX)\n",
    "                offsetY = random.randrange(-limitY, limitY)\n",
    "                offsetZ = random.randrange(-limitZ, limitZ)\n",
    "\n",
    "                pos_aug = {}\n",
    "                pos_aug['seriesuid'] = uid\n",
    "                pos_aug['width'] = item.width\n",
    "                pos_aug['height'] = item.height\n",
    "                pos_aug['slice'] = item.slice\n",
    "                pos_aug['vcoordX'] = vcoordX + offsetX\n",
    "                pos_aug['vcoordY'] = vcoordY + offsetY\n",
    "                pos_aug['vcoordZ'] = vcoordZ + offsetZ\n",
    "                pos_aug['diameterX'] = item.diameterX\n",
    "                pos_aug['diameterY'] = item.diameterY\n",
    "                pos_aug['diameterZ'] = item.diameterZ\n",
    "                pos_aug['offsetX'] = offsetX\n",
    "                pos_aug['offsetY'] = offsetY\n",
    "                pos_aug['offsetZ'] = offsetZ\n",
    "                pos_aug['originX'] = item.originX\n",
    "                pos_aug['originY'] = item.originY\n",
    "                pos_aug['originZ'] = item.originZ   \n",
    "                pos_aug['spacingX'] = item.spacingX\n",
    "                pos_aug['spacingY'] = item.spacingY\n",
    "                pos_aug['spacingZ'] = item.spacingZ  \n",
    "                pos_aug['label'] = item.label\n",
    "                \n",
    "                list_pos_aug.append(pos_aug)\n",
    "                \n",
    "#                 print(offsetX, offsetY, offsetZ)\n",
    "#                 print(pos_aug)    "
   ]
  },
  {
   "cell_type": "code",
   "execution_count": null,
   "metadata": {},
   "outputs": [],
   "source": [
    "if IS_GENERATE:\n",
    "    df_pos_aug = pd.DataFrame(list_pos_aug, columns=['seriesuid','width','height','slice',\n",
    "                                                     'vcoordX','vcoordY','vcoordZ',\n",
    "                                                     'diameterX','diameterY','diameterZ',\n",
    "                                                     'offsetX', 'offsetY', 'offsetZ',\n",
    "                                                     'originX','originY','originZ',\n",
    "                                                     'spacingX','spacingY','spacingZ','label'])\n",
    "    df_pos_aug = df_pos_aug.set_index('seriesuid')\n",
    "    df_pos_aug.index = df_pos_aug.index.astype('str')\n",
    "    df_pos_aug['width'] = df_pos_aug['width'].astype('int')\n",
    "    df_pos_aug['height'] = df_pos_aug['height'].astype('int')\n",
    "    df_pos_aug['slice'] = df_pos_aug['slice'].astype('int')\n",
    "    \n",
    "    print('total:', len(df_pos_aug), 'lung:', len(set(df_pos_aug.index)))\n",
    "    \n",
    "    df_pos_aug.to_csv(settings.PREPROCESS_ANNOTATION_AUG_FILE, encoding='utf-8')"
   ]
  },
  {
   "cell_type": "markdown",
   "metadata": {},
   "source": [
    "# 3. Positive Samples Extraction"
   ]
  },
  {
   "cell_type": "code",
   "execution_count": null,
   "metadata": {},
   "outputs": [],
   "source": [
    "IS_EXTRACTION = True\n",
    "if not os.path.exists(settings.PREPROCESS_POS_DIR):\n",
    "    os.mkdir(settings.PREPROCESS_POS_DIR)\n",
    "    os.mkdir(settings.PREPROCESS_POS_DIR + 'lung/')\n",
    "    os.mkdir(settings.PREPROCESS_POS_DIR + 'medi/')\n",
    "    \n",
    "df_pos_aug = pd.read_csv(filepath_or_buffer=settings.PREPROCESS_ANNOTATION_AUG_FILE, index_col=['seriesuid'])\n",
    "df_pos_aug.index = df_pos_aug.index.astype('str')\n",
    "print('anno aug:', df_pos_aug.shape, 'distinct lung:', len(set(df_pos_aug.index)))"
   ]
  },
  {
   "cell_type": "code",
   "execution_count": null,
   "metadata": {},
   "outputs": [],
   "source": [
    "if IS_EXTRACTION:\n",
    "    for uid in tqdm(lungs):\n",
    "        labels = df_pos_aug.loc[[uid]]\n",
    "        if len(labels) <= 0:\n",
    "            continue\n",
    "\n",
    "        lung_l, mask_l = helper.load_lung_array(uid, int(labels['width'].values[0]), int(labels['height'].values[0]), int(labels['slice'].values[0]), wtype='lung')\n",
    "        lung_m, mask_m = helper.load_lung_array(uid, int(labels['width'].values[0]), int(labels['height'].values[0]), int(labels['slice'].values[0]), wtype='medi')\n",
    "\n",
    "        lung_l = lung_l*(mask_l>0)\n",
    "        lung_m = lung_m*(mask_m>0)\n",
    "        \n",
    "        for idx, item in labels.iterrows():\n",
    "            # patch without mask\n",
    "            if int(item.label) in {1, 5}:\n",
    "                lung, wtype = lung_l, 'lung'\n",
    "            elif int(item.label) in {31, 32}:\n",
    "                lung, wtype = lung_m, 'medi'\n",
    "                \n",
    "            cube = helper.get_cube_from_lung_array(lung, item.vcoordX, item.vcoordY, item.vcoordZ, block_size=settings.CUBE_POS_SIZE)\n",
    "            if np.sum(cube) > settings.THRESHOLD_VALID_CUBE:\n",
    "                seg_label = helper.create_seg_label(diameter=np.array([item.diameterZ, item.diameterY, item.diameterX]), \n",
    "                                                    offset=np.array([item.offsetZ,item.offsetY,item.offsetX]), \n",
    "                                                    block_size=settings.CUBE_POS_SIZE)\n",
    "                helper.save_cube_img(\n",
    "                    f'{settings.PREPROCESS_POS_DIR}{wtype}/{idx}_x{int(item.vcoordX)}_y{int(item.vcoordY)}_z{int(item.vcoordZ)}_dx{int(round(item.diameterX))}_dy{int(round(item.diameterY))}_dz{int(round(item.diameterZ,0))}_l{int(item.label)}.png', \n",
    "                    cube, rows=8, cols=8)\n",
    "\n",
    "                helper.save_cube_img(\n",
    "                    f'{settings.PREPROCESS_SEG_DIR}{wtype}_label/{idx}_x{int(item.vcoordX)}_y{int(item.vcoordY)}_z{int(item.vcoordZ)}_dx{int(round(item.diameterX))}_dy{int(round(item.diameterY))}_dz{int(round(item.diameterZ,0))}_l{int(item.label)}.png', \n",
    "                    seg_label, rows=8, cols=8)\n",
    "            "
   ]
  },
  {
   "cell_type": "markdown",
   "metadata": {},
   "source": [
    "# 4. Validate the Positive Samples"
   ]
  },
  {
   "cell_type": "code",
   "execution_count": null,
   "metadata": {},
   "outputs": [],
   "source": [
    "print(len(df_annotation), len(df_pos_aug), len(glob(settings.PREPROCESS_POS_DIR + '*/*.png')))"
   ]
  },
  {
   "cell_type": "code",
   "execution_count": null,
   "metadata": {},
   "outputs": [],
   "source": [
    "EXAMPLE_SERIESUID = '660577'\n",
    "WTYPE = 'medi'"
   ]
  },
  {
   "cell_type": "code",
   "execution_count": null,
   "metadata": {},
   "outputs": [],
   "source": [
    "labels = df_pos_aug.loc[[EXAMPLE_SERIESUID]]\n",
    "print('labels:', len(labels))"
   ]
  },
  {
   "cell_type": "markdown",
   "metadata": {},
   "source": [
    "# 5. Visual Samples By Labels"
   ]
  },
  {
   "cell_type": "code",
   "execution_count": null,
   "metadata": {},
   "outputs": [],
   "source": [
    "EXAMPLE_SERIESUID = '660577'\n",
    "WTYPE = 'medi'"
   ]
  },
  {
   "cell_type": "code",
   "execution_count": null,
   "metadata": {
    "scrolled": false
   },
   "outputs": [],
   "source": [
    "for img_file in iglob(settings.PREPROCESS_POS_DIR + WTYPE + '/' + f'{EXAMPLE_SERIESUID}*.png'):\n",
    "    seg_file = img_file.replace(settings.PREPROCESS_POS_DIR, settings.PREPROCESS_SEG_DIR)\n",
    "    seg_file = seg_file.replace(WTYPE, WTYPE+'_label')\n",
    "    print(img_file, '\\n', seg_file)\n",
    "    img = cv2.imread(img_file, cv2.IMREAD_GRAYSCALE)\n",
    "    seg = cv2.imread(seg_file, cv2.IMREAD_GRAYSCALE)\n",
    "    fig, axs = plt.subplots(1, 2, figsize=(32, 16))\n",
    "    axs[0].imshow(img, cmap='gray')\n",
    "    axs[1].imshow(img*(seg>0), cmap='gray')\n",
    "    plt.show()"
   ]
  },
  {
   "cell_type": "code",
   "execution_count": null,
   "metadata": {},
   "outputs": [],
   "source": []
  }
 ],
 "metadata": {
  "kernelspec": {
   "display_name": "Python 3",
   "language": "python",
   "name": "python3"
  },
  "language_info": {
   "codemirror_mode": {
    "name": "ipython",
    "version": 3
   },
   "file_extension": ".py",
   "mimetype": "text/x-python",
   "name": "python",
   "nbconvert_exporter": "python",
   "pygments_lexer": "ipython3",
   "version": "3.6.8"
  }
 },
 "nbformat": 4,
 "nbformat_minor": 2
}
