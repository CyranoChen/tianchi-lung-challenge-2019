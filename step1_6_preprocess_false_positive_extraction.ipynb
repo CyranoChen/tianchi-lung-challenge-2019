{
 "cells": [
  {
   "cell_type": "code",
   "execution_count": null,
   "metadata": {},
   "outputs": [],
   "source": [
    "# -*- coding: utf-8 -*-\n",
    "import sys; print('Python %s on %s' % (sys.version, sys.platform))\n",
    "import os\n",
    "import time\n",
    "import json\n",
    "from glob import glob, iglob\n",
    "from tqdm import tqdm\n",
    "from random import random\n",
    "import matplotlib.pyplot as plt\n",
    "\n",
    "import numpy as np; print('numpy', np.__version__)\n",
    "import pandas as pd; print('pandas', pd.__version__)\n",
    "import cv2; print('opencv2', cv2.__version__)\n",
    "\n",
    "import settings\n",
    "import helper\n",
    "import visual"
   ]
  },
  {
   "cell_type": "markdown",
   "metadata": {},
   "source": [
    "# 1. Load Meta File and Annotation"
   ]
  },
  {
   "cell_type": "code",
   "execution_count": null,
   "metadata": {},
   "outputs": [],
   "source": [
    "df_meta_train = pd.read_csv(filepath_or_buffer=settings.PREPROCESS_TRAIN_META_FILE, index_col=['seriesuid'])\n",
    "df_meta_train.index = df_meta_train.index.astype('str')"
   ]
  },
  {
   "cell_type": "code",
   "execution_count": null,
   "metadata": {},
   "outputs": [],
   "source": [
    "df_meta_train.head(5)"
   ]
  },
  {
   "cell_type": "code",
   "execution_count": null,
   "metadata": {},
   "outputs": [],
   "source": [
    "df_annotation = pd.read_csv(filepath_or_buffer=settings.PREPROCESS_ANNOTATION_FILE, index_col=['seriesuid'])\n",
    "df_annotation.index = df_annotation.index.astype('str')\n",
    "print('annotation:', df_annotation.shape, 'distinct lung:', len(set(df_annotation.index)))"
   ]
  },
  {
   "cell_type": "code",
   "execution_count": null,
   "metadata": {},
   "outputs": [],
   "source": [
    "df_annotation.sample(10)"
   ]
  },
  {
   "cell_type": "code",
   "execution_count": null,
   "metadata": {},
   "outputs": [],
   "source": [
    "lungs = list(set(df_annotation.index))\n",
    "print('distinct lungs in annotation:', len(lungs))"
   ]
  },
  {
   "cell_type": "markdown",
   "metadata": {},
   "source": [
    "# 2. Generate Negative Labels"
   ]
  },
  {
   "cell_type": "code",
   "execution_count": null,
   "metadata": {},
   "outputs": [],
   "source": [
    "IS_GENERATE = False\n",
    "df_false_positive = pd.read_csv(filepath_or_buffer=settings.PREPROCESS_FALSE_POSITIVE_FILE, index_col=['seriesuid'])\n",
    "df_false_positive.index = df_false_positive.index.astype('str')\n",
    "print('false_positive:', df_false_positive.shape, 'distinct lung:', len(set(df_annotation.index)))"
   ]
  },
  {
   "cell_type": "code",
   "execution_count": null,
   "metadata": {},
   "outputs": [],
   "source": [
    "if IS_GENERATE:\n",
    "    list_fp = []\n",
    "    for uid in tqdm(lungs):\n",
    "        candidates = df_false_positive.loc[[uid]] #dataframe\n",
    "        labels = df_annotation.loc[[uid]] # dataframe\n",
    "        meta = df_meta_train.loc[uid] # slice\n",
    "        \n",
    "        if len(candidates) > 0:\n",
    "            for i,c in candidates.iterrows():\n",
    "                vcoordX, vcoordY, vcoordZ = c.vcoordX, c.vcoordY, c.vcoordZ\n",
    "                # print(vcoordX, vcoordY, vcoordZ)\n",
    "\n",
    "                flag_pass = True\n",
    "                if len(labels) > 0:\n",
    "                    for idx, item in labels.iterrows():\n",
    "                        dist = np.linalg.norm(np.array([vcoordX, vcoordY, vcoordZ]) - np.array([item.vcoordX, item.vcoordY, item.vcoordZ]))\n",
    "                        if dist <= settings.CUBE_POS_SIZE + settings.CUBE_FPOS_SIZE:\n",
    "                            flag_pass = False\n",
    "                            break\n",
    "\n",
    "                if flag_pass:\n",
    "                    fp = {}\n",
    "                    fp['seriesuid'] = uid\n",
    "                    fp['width'] = meta.width\n",
    "                    fp['height'] = meta.height\n",
    "                    fp['slice'] = meta.slice\n",
    "                    fp['vcoordX'] = vcoordX\n",
    "                    fp['vcoordY'] = vcoordY\n",
    "                    fp['vcoordZ'] = vcoordZ\n",
    "                    list_fp.append(fp)\n",
    "                "
   ]
  },
  {
   "cell_type": "code",
   "execution_count": null,
   "metadata": {},
   "outputs": [],
   "source": [
    "if IS_GENERATE:\n",
    "    df_fp = pd.DataFrame(list_fp, columns=['seriesuid','width','height','slice','vcoordX','vcoordY','vcoordZ'])\n",
    "    df_fp = df_fp.set_index('seriesuid')\n",
    "    df_fp.index = df_fp.index.astype('str')\n",
    "    df_fp['width'] = df_fp['width'].astype('int')\n",
    "    df_fp['height'] = df_fp['height'].astype('int')\n",
    "    df_fp['slice'] = df_fp['slice'].astype('int')\n",
    "    \n",
    "    print('total:', len(df_fp), 'lung:', len(set(df_fp.index)))\n",
    "    \n",
    "    df_fp.to_csv(settings.PREPROCESS_FALSE_POSITIVE_FILE, encoding='utf-8')\n",
    "    "
   ]
  },
  {
   "cell_type": "markdown",
   "metadata": {},
   "source": [
    "# 3. False Positive Samples Extraction"
   ]
  },
  {
   "cell_type": "code",
   "execution_count": null,
   "metadata": {},
   "outputs": [],
   "source": [
    "IS_EXTRACTION = True\n",
    "if not os.path.exists(settings.PREPROCESS_FPOS_DIR):\n",
    "    os.mkdir(settings.PREPROCESS_FPOS_DIR)\n",
    "    os.mkdir(settings.PREPROCESS_FPOS_DIR + 'lung/')\n",
    "    os.mkdir(settings.PREPROCESS_FPOS_DIR + 'medi/')\n",
    "    \n",
    "df_false_positive = pd.read_csv(filepath_or_buffer=settings.PREPROCESS_FALSE_POSITIVE_FILE, index_col=['seriesuid'])\n",
    "df_false_positive.index = df_false_positive.index.astype('str')\n",
    "print('false_positive:', df_false_positive.shape, 'distinct lung:', len(set(df_false_positive.index)))"
   ]
  },
  {
   "cell_type": "code",
   "execution_count": null,
   "metadata": {},
   "outputs": [],
   "source": [
    "if IS_EXTRACTION:\n",
    "    for uid in tqdm(lungs):\n",
    "        if uid not in df_false_positive.index:\n",
    "            continue\n",
    "            \n",
    "        labels = df_false_positive.loc[[uid]]\n",
    "\n",
    "        lung_l, mask_l = helper.load_lung_array(uid, int(labels['width'].values[0]), int(labels['height'].values[0]), int(labels['slice'].values[0]), wtype='lung')\n",
    "        lung_m, mask_m = helper.load_lung_array(uid, int(labels['width'].values[0]), int(labels['height'].values[0]), int(labels['slice'].values[0]), wtype='medi')\n",
    "\n",
    "        lung_l = lung_l*(mask_l>0)\n",
    "        lung_m = lung_m*(mask_m>0)\n",
    "        \n",
    "        for idx, item in labels.iterrows():\n",
    "            lung, wtype = lung_l, 'lung'\n",
    "            cube = helper.get_cube_from_lung_array(lung, item.vcoordX, item.vcoordY, item.vcoordZ, block_size=settings.CUBE_FPOS_SIZE)\n",
    "            if np.sum(cube) > settings.THRESHOLD_VALID_CUBE:\n",
    "                helper.save_cube_img(\n",
    "                        f'{settings.PREPROCESS_FPOS_DIR}{wtype}/{idx}_x{int(item.vcoordX)}_y{int(item.vcoordY)}_z{int(item.vcoordZ)}.png', \n",
    "                        cube, rows=8, cols=8)\n",
    "                \n",
    "            lung, wtype = lung_m, 'medi'\n",
    "            cube = helper.get_cube_from_lung_array(lung, item.vcoordX, item.vcoordY, item.vcoordZ, block_size=settings.CUBE_FPOS_SIZE)\n",
    "            if np.sum(cube) > settings.THRESHOLD_VALID_CUBE:\n",
    "                helper.save_cube_img(\n",
    "                        f'{settings.PREPROCESS_FPOS_DIR}{wtype}/{idx}_x{int(item.vcoordX)}_y{int(item.vcoordY)}_z{int(item.vcoordZ)}.png', \n",
    "                        cube, rows=8, cols=8)\n",
    "            "
   ]
  },
  {
   "cell_type": "markdown",
   "metadata": {},
   "source": [
    "# 3. Validate False Positive Samples"
   ]
  },
  {
   "cell_type": "code",
   "execution_count": null,
   "metadata": {},
   "outputs": [],
   "source": [
    "print(len(df_false_positive), len(glob(settings.PREPROCESS_FPOS_DIR + '*/*.png')))"
   ]
  },
  {
   "cell_type": "code",
   "execution_count": null,
   "metadata": {},
   "outputs": [],
   "source": [
    "EXAMPLE_SERIESUID = '660577'\n",
    "WTYPE = 'medi'"
   ]
  },
  {
   "cell_type": "code",
   "execution_count": null,
   "metadata": {},
   "outputs": [],
   "source": [
    "labels = df_false_positive.loc[[EXAMPLE_SERIESUID]]\n",
    "print('labels:', len(labels))"
   ]
  },
  {
   "cell_type": "code",
   "execution_count": null,
   "metadata": {},
   "outputs": [],
   "source": [
    "if len(labels) > 0:\n",
    "    for idx, item in labels.iterrows():\n",
    "        filename = f'{idx}_x{int(item.vcoordX)}_y{int(item.vcoordY)}_z{int(item.vcoordZ)}.png'\n",
    "        if os.path.exists(settings.PREPROCESS_FPOS_DIR + WTYPE + '/' + filename):\n",
    "            cube = helper.load_cube_img(settings.PREPROCESS_FPOS_DIR + 'medi' + '/' + filename, rows=8, cols=8)\n",
    "        else:\n",
    "            cube = helper.load_cube_img(settings.PREPROCESS_FPOS_DIR + 'lung' + '/' + filename, rows=8, cols=8) \n",
    "\n",
    "        assert cube.shape == (64, 64, 64)\n",
    "        print(filename, '\\n', cube)\n",
    "        print('--'*30)"
   ]
  },
  {
   "cell_type": "markdown",
   "metadata": {},
   "source": [
    "# 4. Visual Samples By Labels"
   ]
  },
  {
   "cell_type": "code",
   "execution_count": null,
   "metadata": {},
   "outputs": [],
   "source": [
    "EXAMPLE_SERIESUID = '660577'"
   ]
  },
  {
   "cell_type": "code",
   "execution_count": null,
   "metadata": {
    "scrolled": false
   },
   "outputs": [],
   "source": [
    "for img_file in iglob(settings.PREPROCESS_FPOS_DIR + 'medi/' + f'{EXAMPLE_SERIESUID}*.png'):   \n",
    "    img = cv2.imread(img_file, cv2.IMREAD_GRAYSCALE)\n",
    "    print(img_file, np.sum(img))\n",
    "    fig, axs = plt.subplots(1, 1, figsize=(16, 16))\n",
    "    axs.imshow(img, cmap='gray')\n",
    "    plt.show()"
   ]
  },
  {
   "cell_type": "code",
   "execution_count": null,
   "metadata": {
    "scrolled": false
   },
   "outputs": [],
   "source": [
    "for img_file in iglob(settings.PREPROCESS_FPOS_DIR + 'lung/' + f'{EXAMPLE_SERIESUID}*.png'):\n",
    "    img = cv2.imread(img_file, cv2.IMREAD_GRAYSCALE)\n",
    "    print(img_file, np.sum(img))\n",
    "    fig, axs = plt.subplots(1, 1, figsize=(16, 16))\n",
    "    axs.imshow(img, cmap='gray')\n",
    "    plt.show()"
   ]
  },
  {
   "cell_type": "code",
   "execution_count": null,
   "metadata": {},
   "outputs": [],
   "source": []
  }
 ],
 "metadata": {
  "kernelspec": {
   "display_name": "Python 3",
   "language": "python",
   "name": "python3"
  },
  "language_info": {
   "codemirror_mode": {
    "name": "ipython",
    "version": 3
   },
   "file_extension": ".py",
   "mimetype": "text/x-python",
   "name": "python",
   "nbconvert_exporter": "python",
   "pygments_lexer": "ipython3",
   "version": "3.6.8"
  }
 },
 "nbformat": 4,
 "nbformat_minor": 2
}
