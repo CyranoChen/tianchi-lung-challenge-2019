{
 "cells": [
  {
   "cell_type": "code",
   "execution_count": 1,
   "metadata": {},
   "outputs": [
    {
     "name": "stdout",
     "output_type": "stream",
     "text": [
      "Python 3.6.8 (default, Jan 14 2019, 11:02:34) \n",
      "[GCC 8.0.1 20180414 (experimental) [trunk revision 259383]] on linux\n",
      "numpy 1.16.4\n",
      "pandas 0.24.2\n",
      "opencv2 4.1.0\n"
     ]
    }
   ],
   "source": [
    "# -*- coding: utf-8 -*-\n",
    "import sys; print('Python %s on %s' % (sys.version, sys.platform))\n",
    "import os\n",
    "import time\n",
    "import json\n",
    "from glob import glob, iglob\n",
    "from tqdm import tqdm\n",
    "from random import random\n",
    "import matplotlib.pyplot as plt\n",
    "\n",
    "import numpy as np; print('numpy', np.__version__)\n",
    "import pandas as pd; print('pandas', pd.__version__)\n",
    "import cv2; print('opencv2', cv2.__version__)\n",
    "\n",
    "import settings\n",
    "import helper\n",
    "import visual"
   ]
  },
  {
   "cell_type": "markdown",
   "metadata": {},
   "source": [
    "# 1. Load Meta File and Annotation"
   ]
  },
  {
   "cell_type": "code",
   "execution_count": 2,
   "metadata": {},
   "outputs": [],
   "source": [
    "df_meta_train = pd.read_csv(filepath_or_buffer=settings.PREPROCESS_TRAIN_META_FILE, index_col=['seriesuid'])\n",
    "df_meta_train.index = df_meta_train.index.astype('str')"
   ]
  },
  {
   "cell_type": "code",
   "execution_count": 3,
   "metadata": {},
   "outputs": [
    {
     "data": {
      "text/html": [
       "<div>\n",
       "<style scoped>\n",
       "    .dataframe tbody tr th:only-of-type {\n",
       "        vertical-align: middle;\n",
       "    }\n",
       "\n",
       "    .dataframe tbody tr th {\n",
       "        vertical-align: top;\n",
       "    }\n",
       "\n",
       "    .dataframe thead th {\n",
       "        text-align: right;\n",
       "    }\n",
       "</style>\n",
       "<table border=\"1\" class=\"dataframe\">\n",
       "  <thead>\n",
       "    <tr style=\"text-align: right;\">\n",
       "      <th></th>\n",
       "      <th>width</th>\n",
       "      <th>height</th>\n",
       "      <th>slice</th>\n",
       "      <th>originX</th>\n",
       "      <th>originY</th>\n",
       "      <th>originZ</th>\n",
       "      <th>spacingX</th>\n",
       "      <th>spacingY</th>\n",
       "      <th>spacingZ</th>\n",
       "      <th>segmented_lung</th>\n",
       "      <th>segmented_medi</th>\n",
       "    </tr>\n",
       "    <tr>\n",
       "      <th>seriesuid</th>\n",
       "      <th></th>\n",
       "      <th></th>\n",
       "      <th></th>\n",
       "      <th></th>\n",
       "      <th></th>\n",
       "      <th></th>\n",
       "      <th></th>\n",
       "      <th></th>\n",
       "      <th></th>\n",
       "      <th></th>\n",
       "      <th></th>\n",
       "    </tr>\n",
       "  </thead>\n",
       "  <tbody>\n",
       "    <tr>\n",
       "      <th>689704</th>\n",
       "      <td>350</td>\n",
       "      <td>350</td>\n",
       "      <td>285</td>\n",
       "      <td>-175.384491</td>\n",
       "      <td>-174.658203</td>\n",
       "      <td>-346.053955</td>\n",
       "      <td>0.683594</td>\n",
       "      <td>0.683594</td>\n",
       "      <td>5.0</td>\n",
       "      <td>0.125633</td>\n",
       "      <td>0.922212</td>\n",
       "    </tr>\n",
       "    <tr>\n",
       "      <th>680464</th>\n",
       "      <td>350</td>\n",
       "      <td>350</td>\n",
       "      <td>300</td>\n",
       "      <td>-174.658203</td>\n",
       "      <td>-174.658203</td>\n",
       "      <td>1195.953613</td>\n",
       "      <td>0.683594</td>\n",
       "      <td>0.683594</td>\n",
       "      <td>5.0</td>\n",
       "      <td>0.159373</td>\n",
       "      <td>0.947458</td>\n",
       "    </tr>\n",
       "    <tr>\n",
       "      <th>651264</th>\n",
       "      <td>350</td>\n",
       "      <td>350</td>\n",
       "      <td>295</td>\n",
       "      <td>-162.311188</td>\n",
       "      <td>-174.658203</td>\n",
       "      <td>-91.186157</td>\n",
       "      <td>0.683594</td>\n",
       "      <td>0.683594</td>\n",
       "      <td>5.0</td>\n",
       "      <td>0.148750</td>\n",
       "      <td>0.901729</td>\n",
       "    </tr>\n",
       "    <tr>\n",
       "      <th>401934</th>\n",
       "      <td>360</td>\n",
       "      <td>360</td>\n",
       "      <td>265</td>\n",
       "      <td>-174.000000</td>\n",
       "      <td>-180.000000</td>\n",
       "      <td>-760.400024</td>\n",
       "      <td>0.703125</td>\n",
       "      <td>0.703125</td>\n",
       "      <td>5.0</td>\n",
       "      <td>0.150447</td>\n",
       "      <td>0.946397</td>\n",
       "    </tr>\n",
       "    <tr>\n",
       "      <th>389624</th>\n",
       "      <td>400</td>\n",
       "      <td>400</td>\n",
       "      <td>296</td>\n",
       "      <td>-205.662994</td>\n",
       "      <td>-199.804306</td>\n",
       "      <td>-816.500000</td>\n",
       "      <td>0.782000</td>\n",
       "      <td>0.782000</td>\n",
       "      <td>8.0</td>\n",
       "      <td>0.098559</td>\n",
       "      <td>0.955368</td>\n",
       "    </tr>\n",
       "  </tbody>\n",
       "</table>\n",
       "</div>"
      ],
      "text/plain": [
       "           width  height  slice     originX     originY      originZ  \\\n",
       "seriesuid                                                              \n",
       "689704       350     350    285 -175.384491 -174.658203  -346.053955   \n",
       "680464       350     350    300 -174.658203 -174.658203  1195.953613   \n",
       "651264       350     350    295 -162.311188 -174.658203   -91.186157   \n",
       "401934       360     360    265 -174.000000 -180.000000  -760.400024   \n",
       "389624       400     400    296 -205.662994 -199.804306  -816.500000   \n",
       "\n",
       "           spacingX  spacingY  spacingZ  segmented_lung  segmented_medi  \n",
       "seriesuid                                                                \n",
       "689704     0.683594  0.683594       5.0        0.125633        0.922212  \n",
       "680464     0.683594  0.683594       5.0        0.159373        0.947458  \n",
       "651264     0.683594  0.683594       5.0        0.148750        0.901729  \n",
       "401934     0.703125  0.703125       5.0        0.150447        0.946397  \n",
       "389624     0.782000  0.782000       8.0        0.098559        0.955368  "
      ]
     },
     "execution_count": 3,
     "metadata": {},
     "output_type": "execute_result"
    }
   ],
   "source": [
    "df_meta_train.head(5)"
   ]
  },
  {
   "cell_type": "code",
   "execution_count": 4,
   "metadata": {},
   "outputs": [
    {
     "name": "stdout",
     "output_type": "stream",
     "text": [
      "annotation: (12218, 16) distinct lung: 1436\n"
     ]
    }
   ],
   "source": [
    "df_annotation = pd.read_csv(filepath_or_buffer=settings.PREPROCESS_ANNOTATION_FILE, index_col=['seriesuid'])\n",
    "df_annotation.index = df_annotation.index.astype('str')\n",
    "print('annotation:', df_annotation.shape, 'distinct lung:', len(set(df_annotation.index)))"
   ]
  },
  {
   "cell_type": "code",
   "execution_count": 5,
   "metadata": {},
   "outputs": [
    {
     "data": {
      "text/html": [
       "<div>\n",
       "<style scoped>\n",
       "    .dataframe tbody tr th:only-of-type {\n",
       "        vertical-align: middle;\n",
       "    }\n",
       "\n",
       "    .dataframe tbody tr th {\n",
       "        vertical-align: top;\n",
       "    }\n",
       "\n",
       "    .dataframe thead th {\n",
       "        text-align: right;\n",
       "    }\n",
       "</style>\n",
       "<table border=\"1\" class=\"dataframe\">\n",
       "  <thead>\n",
       "    <tr style=\"text-align: right;\">\n",
       "      <th></th>\n",
       "      <th>width</th>\n",
       "      <th>height</th>\n",
       "      <th>slice</th>\n",
       "      <th>vcoordX</th>\n",
       "      <th>vcoordY</th>\n",
       "      <th>vcoordZ</th>\n",
       "      <th>diameterX</th>\n",
       "      <th>diameterY</th>\n",
       "      <th>diameterZ</th>\n",
       "      <th>originX</th>\n",
       "      <th>originY</th>\n",
       "      <th>originZ</th>\n",
       "      <th>spacingX</th>\n",
       "      <th>spacingY</th>\n",
       "      <th>spacingZ</th>\n",
       "      <th>label</th>\n",
       "    </tr>\n",
       "    <tr>\n",
       "      <th>seriesuid</th>\n",
       "      <th></th>\n",
       "      <th></th>\n",
       "      <th></th>\n",
       "      <th></th>\n",
       "      <th></th>\n",
       "      <th></th>\n",
       "      <th></th>\n",
       "      <th></th>\n",
       "      <th></th>\n",
       "      <th></th>\n",
       "      <th></th>\n",
       "      <th></th>\n",
       "      <th></th>\n",
       "      <th></th>\n",
       "      <th></th>\n",
       "      <th></th>\n",
       "    </tr>\n",
       "  </thead>\n",
       "  <tbody>\n",
       "    <tr>\n",
       "      <th>655923</th>\n",
       "      <td>361</td>\n",
       "      <td>361</td>\n",
       "      <td>260</td>\n",
       "      <td>217.869141</td>\n",
       "      <td>242.899414</td>\n",
       "      <td>102.0</td>\n",
       "      <td>13.396484</td>\n",
       "      <td>16.921875</td>\n",
       "      <td>10.0</td>\n",
       "      <td>-167.800446</td>\n",
       "      <td>-180.147461</td>\n",
       "      <td>-322.552246</td>\n",
       "      <td>0.705078</td>\n",
       "      <td>0.705078</td>\n",
       "      <td>5.0</td>\n",
       "      <td>31.0</td>\n",
       "    </tr>\n",
       "    <tr>\n",
       "      <th>664042</th>\n",
       "      <td>330</td>\n",
       "      <td>330</td>\n",
       "      <td>296</td>\n",
       "      <td>209.150391</td>\n",
       "      <td>170.800781</td>\n",
       "      <td>24.0</td>\n",
       "      <td>10.312500</td>\n",
       "      <td>12.246094</td>\n",
       "      <td>8.0</td>\n",
       "      <td>-146.677734</td>\n",
       "      <td>-295.677734</td>\n",
       "      <td>-486.500000</td>\n",
       "      <td>0.644531</td>\n",
       "      <td>0.644531</td>\n",
       "      <td>8.0</td>\n",
       "      <td>31.0</td>\n",
       "    </tr>\n",
       "    <tr>\n",
       "      <th>672104</th>\n",
       "      <td>344</td>\n",
       "      <td>344</td>\n",
       "      <td>320</td>\n",
       "      <td>196.523438</td>\n",
       "      <td>160.914062</td>\n",
       "      <td>245.0</td>\n",
       "      <td>5.375000</td>\n",
       "      <td>5.375000</td>\n",
       "      <td>5.0</td>\n",
       "      <td>-180.664062</td>\n",
       "      <td>-311.664062</td>\n",
       "      <td>-833.099976</td>\n",
       "      <td>0.671875</td>\n",
       "      <td>0.671875</td>\n",
       "      <td>5.0</td>\n",
       "      <td>31.0</td>\n",
       "    </tr>\n",
       "    <tr>\n",
       "      <th>675354</th>\n",
       "      <td>330</td>\n",
       "      <td>330</td>\n",
       "      <td>288</td>\n",
       "      <td>129.873047</td>\n",
       "      <td>213.017578</td>\n",
       "      <td>216.0</td>\n",
       "      <td>7.734375</td>\n",
       "      <td>9.023438</td>\n",
       "      <td>8.0</td>\n",
       "      <td>-175.677734</td>\n",
       "      <td>-288.677734</td>\n",
       "      <td>-156.000000</td>\n",
       "      <td>0.644531</td>\n",
       "      <td>0.644531</td>\n",
       "      <td>8.0</td>\n",
       "      <td>1.0</td>\n",
       "    </tr>\n",
       "    <tr>\n",
       "      <th>493047</th>\n",
       "      <td>302</td>\n",
       "      <td>302</td>\n",
       "      <td>325</td>\n",
       "      <td>210.279297</td>\n",
       "      <td>223.255859</td>\n",
       "      <td>110.0</td>\n",
       "      <td>23.593750</td>\n",
       "      <td>21.234375</td>\n",
       "      <td>5.0</td>\n",
       "      <td>-143.800003</td>\n",
       "      <td>-151.000000</td>\n",
       "      <td>-706.099976</td>\n",
       "      <td>0.589844</td>\n",
       "      <td>0.589844</td>\n",
       "      <td>5.0</td>\n",
       "      <td>1.0</td>\n",
       "    </tr>\n",
       "    <tr>\n",
       "      <th>671788</th>\n",
       "      <td>350</td>\n",
       "      <td>350</td>\n",
       "      <td>275</td>\n",
       "      <td>113.476562</td>\n",
       "      <td>99.462891</td>\n",
       "      <td>70.0</td>\n",
       "      <td>6.152344</td>\n",
       "      <td>6.835938</td>\n",
       "      <td>5.0</td>\n",
       "      <td>-170.300415</td>\n",
       "      <td>-174.658203</td>\n",
       "      <td>-433.221680</td>\n",
       "      <td>0.683594</td>\n",
       "      <td>0.683594</td>\n",
       "      <td>5.0</td>\n",
       "      <td>31.0</td>\n",
       "    </tr>\n",
       "    <tr>\n",
       "      <th>631067</th>\n",
       "      <td>350</td>\n",
       "      <td>350</td>\n",
       "      <td>310</td>\n",
       "      <td>185.253906</td>\n",
       "      <td>160.302734</td>\n",
       "      <td>220.0</td>\n",
       "      <td>10.253906</td>\n",
       "      <td>8.203125</td>\n",
       "      <td>5.0</td>\n",
       "      <td>-148.511566</td>\n",
       "      <td>-174.658203</td>\n",
       "      <td>1233.173218</td>\n",
       "      <td>0.683594</td>\n",
       "      <td>0.683594</td>\n",
       "      <td>5.0</td>\n",
       "      <td>31.0</td>\n",
       "    </tr>\n",
       "    <tr>\n",
       "      <th>657258</th>\n",
       "      <td>350</td>\n",
       "      <td>350</td>\n",
       "      <td>309</td>\n",
       "      <td>127.490234</td>\n",
       "      <td>185.937500</td>\n",
       "      <td>184.0</td>\n",
       "      <td>6.835938</td>\n",
       "      <td>7.519531</td>\n",
       "      <td>12.0</td>\n",
       "      <td>-163.100006</td>\n",
       "      <td>-27.000000</td>\n",
       "      <td>-322.040009</td>\n",
       "      <td>0.683594</td>\n",
       "      <td>0.683594</td>\n",
       "      <td>3.0</td>\n",
       "      <td>32.0</td>\n",
       "    </tr>\n",
       "    <tr>\n",
       "      <th>686405</th>\n",
       "      <td>350</td>\n",
       "      <td>350</td>\n",
       "      <td>335</td>\n",
       "      <td>65.283203</td>\n",
       "      <td>195.166016</td>\n",
       "      <td>150.0</td>\n",
       "      <td>5.468750</td>\n",
       "      <td>6.835938</td>\n",
       "      <td>5.0</td>\n",
       "      <td>-203.710022</td>\n",
       "      <td>-174.658203</td>\n",
       "      <td>-350.007812</td>\n",
       "      <td>0.683594</td>\n",
       "      <td>0.683594</td>\n",
       "      <td>5.0</td>\n",
       "      <td>1.0</td>\n",
       "    </tr>\n",
       "    <tr>\n",
       "      <th>655541</th>\n",
       "      <td>385</td>\n",
       "      <td>385</td>\n",
       "      <td>300</td>\n",
       "      <td>104.521484</td>\n",
       "      <td>147.758789</td>\n",
       "      <td>175.0</td>\n",
       "      <td>9.775391</td>\n",
       "      <td>6.015625</td>\n",
       "      <td>5.0</td>\n",
       "      <td>-201.124023</td>\n",
       "      <td>-303.124023</td>\n",
       "      <td>-354.399994</td>\n",
       "      <td>0.751953</td>\n",
       "      <td>0.751953</td>\n",
       "      <td>5.0</td>\n",
       "      <td>1.0</td>\n",
       "    </tr>\n",
       "  </tbody>\n",
       "</table>\n",
       "</div>"
      ],
      "text/plain": [
       "           width  height  slice     vcoordX     vcoordY  vcoordZ  diameterX  \\\n",
       "seriesuid                                                                     \n",
       "655923       361     361    260  217.869141  242.899414    102.0  13.396484   \n",
       "664042       330     330    296  209.150391  170.800781     24.0  10.312500   \n",
       "672104       344     344    320  196.523438  160.914062    245.0   5.375000   \n",
       "675354       330     330    288  129.873047  213.017578    216.0   7.734375   \n",
       "493047       302     302    325  210.279297  223.255859    110.0  23.593750   \n",
       "671788       350     350    275  113.476562   99.462891     70.0   6.152344   \n",
       "631067       350     350    310  185.253906  160.302734    220.0  10.253906   \n",
       "657258       350     350    309  127.490234  185.937500    184.0   6.835938   \n",
       "686405       350     350    335   65.283203  195.166016    150.0   5.468750   \n",
       "655541       385     385    300  104.521484  147.758789    175.0   9.775391   \n",
       "\n",
       "           diameterY  diameterZ     originX     originY      originZ  \\\n",
       "seriesuid                                                              \n",
       "655923     16.921875       10.0 -167.800446 -180.147461  -322.552246   \n",
       "664042     12.246094        8.0 -146.677734 -295.677734  -486.500000   \n",
       "672104      5.375000        5.0 -180.664062 -311.664062  -833.099976   \n",
       "675354      9.023438        8.0 -175.677734 -288.677734  -156.000000   \n",
       "493047     21.234375        5.0 -143.800003 -151.000000  -706.099976   \n",
       "671788      6.835938        5.0 -170.300415 -174.658203  -433.221680   \n",
       "631067      8.203125        5.0 -148.511566 -174.658203  1233.173218   \n",
       "657258      7.519531       12.0 -163.100006  -27.000000  -322.040009   \n",
       "686405      6.835938        5.0 -203.710022 -174.658203  -350.007812   \n",
       "655541      6.015625        5.0 -201.124023 -303.124023  -354.399994   \n",
       "\n",
       "           spacingX  spacingY  spacingZ  label  \n",
       "seriesuid                                       \n",
       "655923     0.705078  0.705078       5.0   31.0  \n",
       "664042     0.644531  0.644531       8.0   31.0  \n",
       "672104     0.671875  0.671875       5.0   31.0  \n",
       "675354     0.644531  0.644531       8.0    1.0  \n",
       "493047     0.589844  0.589844       5.0    1.0  \n",
       "671788     0.683594  0.683594       5.0   31.0  \n",
       "631067     0.683594  0.683594       5.0   31.0  \n",
       "657258     0.683594  0.683594       3.0   32.0  \n",
       "686405     0.683594  0.683594       5.0    1.0  \n",
       "655541     0.751953  0.751953       5.0    1.0  "
      ]
     },
     "execution_count": 5,
     "metadata": {},
     "output_type": "execute_result"
    }
   ],
   "source": [
    "df_annotation.sample(10)"
   ]
  },
  {
   "cell_type": "code",
   "execution_count": 6,
   "metadata": {},
   "outputs": [
    {
     "name": "stdout",
     "output_type": "stream",
     "text": [
      "distinct lungs in annotation: 1436\n"
     ]
    }
   ],
   "source": [
    "lungs = list(set(df_annotation.index))\n",
    "print('distinct lungs in annotation:', len(lungs))"
   ]
  },
  {
   "cell_type": "markdown",
   "metadata": {},
   "source": [
    "# 2. Generate Negative Labels"
   ]
  },
  {
   "cell_type": "code",
   "execution_count": 7,
   "metadata": {},
   "outputs": [],
   "source": [
    "wtype = 'lung'"
   ]
  },
  {
   "cell_type": "code",
   "execution_count": 8,
   "metadata": {},
   "outputs": [
    {
     "name": "stdout",
     "output_type": "stream",
     "text": [
      "false_positive: (33454, 6) distinct lung: 1000\n"
     ]
    }
   ],
   "source": [
    "IS_GENERATE = True\n",
    "df_false_positive = pd.read_csv(filepath_or_buffer=settings.SUBMISSION_DIR + f'train/submission_{wtype}.csv', index_col=['seriesuid'])\n",
    "df_false_positive.index = df_false_positive.index.astype('str')\n",
    "print('false_positive:', df_false_positive.shape, 'distinct lung:', len(set(df_false_positive.index)))"
   ]
  },
  {
   "cell_type": "code",
   "execution_count": 9,
   "metadata": {},
   "outputs": [],
   "source": [
    "# df_false_positive = df_false_positive[df_false_positive['probability'] > 0.95]\n",
    "# print(df_false_positive.shape)"
   ]
  },
  {
   "cell_type": "code",
   "execution_count": 10,
   "metadata": {},
   "outputs": [
    {
     "name": "stderr",
     "output_type": "stream",
     "text": [
      "100%|██████████| 1436/1436 [00:46<00:00, 30.56it/s]\n"
     ]
    }
   ],
   "source": [
    "if IS_GENERATE:\n",
    "    list_fp = []\n",
    "    for uid in tqdm(lungs):\n",
    "        if uid not in df_false_positive.index:\n",
    "            continue\n",
    "            \n",
    "        candidates = df_false_positive.loc[[uid]] #dataframe\n",
    "        labels = df_annotation.loc[[uid]] # dataframe\n",
    "        meta = df_meta_train.loc[uid] # slice\n",
    "        \n",
    "        if len(candidates) > 0:\n",
    "            for i,c in candidates.iterrows():\n",
    "                vcoordX, vcoordY, vcoordZ = c.coordX - meta.originX, c.coordY - meta.originY, c.coordZ - meta.originZ\n",
    "                # print(vcoordX, vcoordY, vcoordZ)\n",
    "\n",
    "                flag_pass = True\n",
    "                if len(labels) > 0:\n",
    "                    for idx, item in labels.iterrows():\n",
    "                        dist = np.linalg.norm(np.array([vcoordX, vcoordY, vcoordZ]) - np.array([item.vcoordX, item.vcoordY, item.vcoordZ]))\n",
    "                        diam = np.linalg.norm(np.array([item.diameterX, item.diameterY, item.diameterZ]))\n",
    "                        if dist <= settings.CUBE_POS_SIZE + diam:\n",
    "                            flag_pass = False\n",
    "                            break\n",
    "\n",
    "                if flag_pass:\n",
    "                    fp = {}\n",
    "                    fp['seriesuid'] = uid\n",
    "                    fp['width'] = meta.width\n",
    "                    fp['height'] = meta.height\n",
    "                    fp['slice'] = meta.slice\n",
    "                    fp['vcoordX'] = vcoordX\n",
    "                    fp['vcoordY'] = vcoordY\n",
    "                    fp['vcoordZ'] = vcoordZ\n",
    "                    list_fp.append(fp)\n",
    "                "
   ]
  },
  {
   "cell_type": "code",
   "execution_count": 11,
   "metadata": {},
   "outputs": [
    {
     "name": "stdout",
     "output_type": "stream",
     "text": [
      "total: 8064 lung: 841\n"
     ]
    }
   ],
   "source": [
    "if IS_GENERATE:\n",
    "    df_fp = pd.DataFrame(list_fp, columns=['seriesuid','width','height','slice','vcoordX','vcoordY','vcoordZ'])\n",
    "    df_fp = df_fp.set_index('seriesuid')\n",
    "    df_fp.index = df_fp.index.astype('str')\n",
    "    df_fp['width'] = df_fp['width'].astype('int')\n",
    "    df_fp['height'] = df_fp['height'].astype('int')\n",
    "    df_fp['slice'] = df_fp['slice'].astype('int')\n",
    "    \n",
    "    print('total:', len(df_fp), 'lung:', len(set(df_fp.index)))\n",
    "    \n",
    "    df_fp.to_csv(settings.PREPROCESS_FALSE_POSITIVE_LUNG_FILE, encoding='utf-8')\n",
    "    "
   ]
  },
  {
   "cell_type": "code",
   "execution_count": null,
   "metadata": {},
   "outputs": [],
   "source": []
  },
  {
   "cell_type": "code",
   "execution_count": 12,
   "metadata": {},
   "outputs": [],
   "source": [
    "wtype = 'medi'"
   ]
  },
  {
   "cell_type": "code",
   "execution_count": 13,
   "metadata": {},
   "outputs": [
    {
     "name": "stdout",
     "output_type": "stream",
     "text": [
      "false_positive: (33217, 6) distinct lung: 1000\n"
     ]
    }
   ],
   "source": [
    "IS_GENERATE = True\n",
    "df_false_positive = pd.read_csv(filepath_or_buffer=settings.SUBMISSION_DIR + f'train/submission_{wtype}.csv', index_col=['seriesuid'])\n",
    "df_false_positive.index = df_false_positive.index.astype('str')\n",
    "print('false_positive:', df_false_positive.shape, 'distinct lung:', len(set(df_false_positive.index)))"
   ]
  },
  {
   "cell_type": "code",
   "execution_count": 14,
   "metadata": {},
   "outputs": [],
   "source": [
    "# df_false_positive = df_false_positive[df_false_positive['probability'] > 0.95]\n",
    "# print(df_false_positive.shape)"
   ]
  },
  {
   "cell_type": "code",
   "execution_count": 15,
   "metadata": {},
   "outputs": [
    {
     "name": "stderr",
     "output_type": "stream",
     "text": [
      "100%|██████████| 1436/1436 [00:50<00:00, 19.67it/s]\n"
     ]
    }
   ],
   "source": [
    "if IS_GENERATE:\n",
    "    list_fp = []\n",
    "    for uid in tqdm(lungs):\n",
    "        if uid not in df_false_positive.index:\n",
    "            continue\n",
    "            \n",
    "        candidates = df_false_positive.loc[[uid]] #dataframe\n",
    "        labels = df_annotation.loc[[uid]] # dataframe\n",
    "        meta = df_meta_train.loc[uid] # slice\n",
    "        \n",
    "        if len(candidates) > 0:\n",
    "            for i,c in candidates.iterrows():\n",
    "                vcoordX, vcoordY, vcoordZ = c.coordX - meta.originX, c.coordY - meta.originY, c.coordZ - meta.originZ\n",
    "                # print(vcoordX, vcoordY, vcoordZ)\n",
    "\n",
    "                flag_pass = True\n",
    "                if len(labels) > 0:\n",
    "                    for idx, item in labels.iterrows():\n",
    "                        dist = np.linalg.norm(np.array([vcoordX, vcoordY, vcoordZ]) - np.array([item.vcoordX, item.vcoordY, item.vcoordZ]))\n",
    "                        diam = np.linalg.norm(np.array([item.diameterX, item.diameterY, item.diameterZ]))\n",
    "                        if dist <= settings.CUBE_POS_SIZE + diam:\n",
    "                            flag_pass = False\n",
    "                            break\n",
    "\n",
    "                if flag_pass:\n",
    "                    fp = {}\n",
    "                    fp['seriesuid'] = uid\n",
    "                    fp['width'] = meta.width\n",
    "                    fp['height'] = meta.height\n",
    "                    fp['slice'] = meta.slice\n",
    "                    fp['vcoordX'] = vcoordX\n",
    "                    fp['vcoordY'] = vcoordY\n",
    "                    fp['vcoordZ'] = vcoordZ\n",
    "                    list_fp.append(fp)\n",
    "                "
   ]
  },
  {
   "cell_type": "code",
   "execution_count": 16,
   "metadata": {},
   "outputs": [
    {
     "name": "stdout",
     "output_type": "stream",
     "text": [
      "total: 11935 lung: 907\n"
     ]
    }
   ],
   "source": [
    "if IS_GENERATE:\n",
    "    df_fp = pd.DataFrame(list_fp, columns=['seriesuid','width','height','slice','vcoordX','vcoordY','vcoordZ'])\n",
    "    df_fp = df_fp.set_index('seriesuid')\n",
    "    df_fp.index = df_fp.index.astype('str')\n",
    "    df_fp['width'] = df_fp['width'].astype('int')\n",
    "    df_fp['height'] = df_fp['height'].astype('int')\n",
    "    df_fp['slice'] = df_fp['slice'].astype('int')\n",
    "    \n",
    "    print('total:', len(df_fp), 'lung:', len(set(df_fp.index)))\n",
    "    \n",
    "    df_fp.to_csv(settings.PREPROCESS_FALSE_POSITIVE_MEDI_FILE, encoding='utf-8')\n",
    "    "
   ]
  },
  {
   "cell_type": "markdown",
   "metadata": {},
   "source": [
    "# 3. False Positive Samples Extraction"
   ]
  },
  {
   "cell_type": "code",
   "execution_count": 17,
   "metadata": {},
   "outputs": [
    {
     "name": "stdout",
     "output_type": "stream",
     "text": [
      "false_positive: (8064, 6) distinct lung: 841\n"
     ]
    }
   ],
   "source": [
    "IS_EXTRACTION = True\n",
    "if not os.path.exists(settings.PREPROCESS_FPOS_DIR):\n",
    "    os.mkdir(settings.PREPROCESS_FPOS_DIR)\n",
    "    os.mkdir(settings.PREPROCESS_FPOS_DIR + 'lung/')\n",
    "    os.mkdir(settings.PREPROCESS_FPOS_DIR + 'medi/')\n",
    "    \n",
    "df_false_positive = pd.read_csv(filepath_or_buffer=settings.PREPROCESS_FALSE_POSITIVE_LUNG_FILE, index_col=['seriesuid'])\n",
    "df_false_positive.index = df_false_positive.index.astype('str')\n",
    "print('false_positive:', df_false_positive.shape, 'distinct lung:', len(set(df_false_positive.index)))"
   ]
  },
  {
   "cell_type": "code",
   "execution_count": null,
   "metadata": {},
   "outputs": [
    {
     "name": "stderr",
     "output_type": "stream",
     "text": [
      " 34%|███▍      | 495/1436 [06:11<16:01,  1.02s/it]"
     ]
    }
   ],
   "source": [
    "if IS_EXTRACTION:\n",
    "    for uid in tqdm(lungs):\n",
    "        if uid not in df_false_positive.index:\n",
    "            continue\n",
    "            \n",
    "        labels = df_false_positive.loc[[uid]]\n",
    "\n",
    "        lung_l, mask_l = helper.load_lung_array(uid, int(labels['width'].values[0]), int(labels['height'].values[0]), int(labels['slice'].values[0]), wtype='lung')\n",
    "#         lung_m, mask_m = helper.load_lung_array(uid, int(labels['width'].values[0]), int(labels['height'].values[0]), int(labels['slice'].values[0]), wtype='medi')\n",
    "\n",
    "        lung_l = lung_l*(mask_l>0)\n",
    "#         lung_m = lung_m*(mask_m>0)\n",
    "        \n",
    "        for idx, item in labels.iterrows():\n",
    "            lung, wtype = lung_l, 'lung'\n",
    "            cube = helper.get_cube_from_lung_array(lung, item.vcoordX, item.vcoordY, item.vcoordZ, block_size=settings.CUBE_FPOS_SIZE)\n",
    "            if np.sum(cube) > settings.THRESHOLD_VALID_CUBE:\n",
    "                helper.save_cube_img(\n",
    "                        f'{settings.PREPROCESS_FPOS_DIR}{wtype}/{idx}_x{int(item.vcoordX)}_y{int(item.vcoordY)}_z{int(item.vcoordZ)}.png', \n",
    "                        cube, rows=8, cols=8)\n",
    "                \n",
    "            "
   ]
  },
  {
   "cell_type": "code",
   "execution_count": null,
   "metadata": {},
   "outputs": [],
   "source": []
  },
  {
   "cell_type": "code",
   "execution_count": null,
   "metadata": {},
   "outputs": [],
   "source": [
    "IS_EXTRACTION = True\n",
    "if not os.path.exists(settings.PREPROCESS_FPOS_DIR):\n",
    "    os.mkdir(settings.PREPROCESS_FPOS_DIR)\n",
    "    os.mkdir(settings.PREPROCESS_FPOS_DIR + 'lung/')\n",
    "    os.mkdir(settings.PREPROCESS_FPOS_DIR + 'medi/')\n",
    "    \n",
    "df_false_positive = pd.read_csv(filepath_or_buffer=settings.PREPROCESS_FALSE_POSITIVE_MEDI_FILE, index_col=['seriesuid'])\n",
    "df_false_positive.index = df_false_positive.index.astype('str')\n",
    "print('false_positive:', df_false_positive.shape, 'distinct lung:', len(set(df_false_positive.index)))\n"
   ]
  },
  {
   "cell_type": "code",
   "execution_count": null,
   "metadata": {},
   "outputs": [],
   "source": [
    "if IS_EXTRACTION:\n",
    "    for uid in tqdm(lungs):\n",
    "        if uid not in df_false_positive.index:\n",
    "            continue\n",
    "            \n",
    "        labels = df_false_positive.loc[[uid]]\n",
    "\n",
    "#         lung_l, mask_l = helper.load_lung_array(uid, int(labels['width'].values[0]), int(labels['height'].values[0]), int(labels['slice'].values[0]), wtype='lung')\n",
    "        lung_m, mask_m = helper.load_lung_array(uid, int(labels['width'].values[0]), int(labels['height'].values[0]), int(labels['slice'].values[0]), wtype='medi')\n",
    "\n",
    "#         lung_l = lung_l*(mask_l>0)\n",
    "        lung_m = lung_m*(mask_m>0)\n",
    "        \n",
    "        for idx, item in labels.iterrows():              \n",
    "            lung, wtype = lung_m, 'medi'\n",
    "            cube = helper.get_cube_from_lung_array(lung, item.vcoordX, item.vcoordY, item.vcoordZ, block_size=settings.CUBE_FPOS_SIZE)\n",
    "            if np.sum(cube) > settings.THRESHOLD_VALID_CUBE:\n",
    "                helper.save_cube_img(\n",
    "                        f'{settings.PREPROCESS_FPOS_DIR}{wtype}/{idx}_x{int(item.vcoordX)}_y{int(item.vcoordY)}_z{int(item.vcoordZ)}.png', \n",
    "                        cube, rows=8, cols=8)\n",
    "            "
   ]
  },
  {
   "cell_type": "markdown",
   "metadata": {},
   "source": [
    "# 3. Validate False Positive Samples"
   ]
  },
  {
   "cell_type": "code",
   "execution_count": null,
   "metadata": {},
   "outputs": [],
   "source": [
    "print(len(glob(settings.PREPROCESS_FPOS_DIR + 'lung/*.png')))\n",
    "print(len(glob(settings.PREPROCESS_FPOS_DIR + 'medi/*.png')))"
   ]
  },
  {
   "cell_type": "code",
   "execution_count": null,
   "metadata": {},
   "outputs": [],
   "source": [
    "path = '*/'\n",
    "dataset = glob(settings.PREPROCESS_FPOS_DIR + path + '*.png')\n",
    "print(len(dataset))\n",
    "\n",
    "invalid = []\n",
    "for file in tqdm(dataset):\n",
    "    cube = helper.load_cube_img(file, rows=8, cols=8)\n",
    "    \n",
    "    size_old = settings.CUBE_SIZE\n",
    "    size_new = 32\n",
    "    cs = (size_old - size_new) // 2\n",
    "    ce = (size_old - size_new) // 2 + size_new\n",
    "    cube = cube[cs:ce, cs:ce, cs:ce]\n",
    "    \n",
    "    assert cube.shape == (size_new, size_new, size_new)\n",
    "    \n",
    "    if np.sum(cube) <= settings.THRESHOLD_VALID_CUBE // 8:\n",
    "        invalid.append(file)\n",
    "        \n",
    "print(len(invalid))"
   ]
  },
  {
   "cell_type": "code",
   "execution_count": null,
   "metadata": {},
   "outputs": [],
   "source": [
    "for file in invalid:\n",
    "    os.remove(file)"
   ]
  },
  {
   "cell_type": "markdown",
   "metadata": {},
   "source": [
    "# 4. Visual Samples By Labels"
   ]
  },
  {
   "cell_type": "code",
   "execution_count": null,
   "metadata": {},
   "outputs": [],
   "source": [
    "EXAMPLE_SERIESUID = '660577'"
   ]
  },
  {
   "cell_type": "code",
   "execution_count": null,
   "metadata": {
    "scrolled": false
   },
   "outputs": [],
   "source": [
    "for img_file in iglob(settings.PREPROCESS_FPOS_DIR + 'medi/' + f'{EXAMPLE_SERIESUID}*.png'):   \n",
    "    img = cv2.imread(img_file, cv2.IMREAD_GRAYSCALE)\n",
    "    print(img_file, np.sum(img))\n",
    "    fig, axs = plt.subplots(1, 1, figsize=(16, 16))\n",
    "    axs.imshow(img, cmap='gray')\n",
    "    plt.show()"
   ]
  },
  {
   "cell_type": "code",
   "execution_count": null,
   "metadata": {},
   "outputs": [],
   "source": [
    "for img_file in iglob(settings.PREPROCESS_FPOS_DIR + 'lung/' + f'{EXAMPLE_SERIESUID}*.png'):\n",
    "    img = cv2.imread(img_file, cv2.IMREAD_GRAYSCALE)\n",
    "    print(img_file, np.sum(img))\n",
    "    fig, axs = plt.subplots(1, 1, figsize=(16, 16))\n",
    "    axs.imshow(img, cmap='gray')\n",
    "    plt.show()"
   ]
  },
  {
   "cell_type": "code",
   "execution_count": null,
   "metadata": {},
   "outputs": [],
   "source": []
  }
 ],
 "metadata": {
  "kernelspec": {
   "display_name": "Python 3",
   "language": "python",
   "name": "python3"
  },
  "language_info": {
   "codemirror_mode": {
    "name": "ipython",
    "version": 3
   },
   "file_extension": ".py",
   "mimetype": "text/x-python",
   "name": "python",
   "nbconvert_exporter": "python",
   "pygments_lexer": "ipython3",
   "version": "3.6.8"
  }
 },
 "nbformat": 4,
 "nbformat_minor": 2
}
