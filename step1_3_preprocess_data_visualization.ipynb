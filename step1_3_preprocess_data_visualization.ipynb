{
 "cells": [
  {
   "cell_type": "code",
   "execution_count": null,
   "metadata": {},
   "outputs": [],
   "source": [
    "# -*- coding: utf-8 -*-\n",
    "import sys; print('Python %s on %s' % (sys.version, sys.platform))\n",
    "import os\n",
    "import time\n",
    "import json\n",
    "from glob import glob, iglob\n",
    "from tqdm import tqdm\n",
    "import matplotlib.pyplot as plt\n",
    "from IPython.display import HTML\n",
    "\n",
    "import numpy as np; print('numpy', np.__version__)\n",
    "import pandas as pd; print('pandas', pd.__version__)\n",
    "import cv2; print('opencv2', cv2.__version__)\n",
    "\n",
    "import settings\n",
    "import helper\n",
    "import visual"
   ]
  },
  {
   "cell_type": "markdown",
   "metadata": {},
   "source": [
    "# 1. Load Meta File and Annotation"
   ]
  },
  {
   "cell_type": "code",
   "execution_count": null,
   "metadata": {},
   "outputs": [],
   "source": [
    "df_meta_train = pd.read_csv(filepath_or_buffer=settings.PREPROCESS_TRAIN_META_FILE, index_col=['seriesuid'])\n",
    "df_meta_train.index = df_meta_train.index.astype('str')\n",
    "df_meta_test = pd.read_csv(filepath_or_buffer=settings.PREPROCESS_TEST_META_FILE, index_col=['seriesuid'])\n",
    "df_meta_test.index = df_meta_test.index.astype('str')\n",
    "\n",
    "print('meta_train:', df_meta_train.shape, '\\n', 'meta_test:', df_meta_test.shape)"
   ]
  },
  {
   "cell_type": "code",
   "execution_count": null,
   "metadata": {},
   "outputs": [],
   "source": [
    "df_meta_train.head(5)"
   ]
  },
  {
   "cell_type": "code",
   "execution_count": null,
   "metadata": {
    "scrolled": true
   },
   "outputs": [],
   "source": [
    "visual.plot_meta(df_meta_train, title='meta_train')"
   ]
  },
  {
   "cell_type": "code",
   "execution_count": null,
   "metadata": {},
   "outputs": [],
   "source": [
    "df_meta_test.head(5)"
   ]
  },
  {
   "cell_type": "code",
   "execution_count": null,
   "metadata": {
    "scrolled": true
   },
   "outputs": [],
   "source": [
    "visual.plot_meta(df_meta_test, title='meta_test')"
   ]
  },
  {
   "cell_type": "code",
   "execution_count": null,
   "metadata": {},
   "outputs": [],
   "source": [
    "df_annotation = pd.read_csv(filepath_or_buffer=settings.PREPROCESS_ANNOTATION_FILE, index_col=['seriesuid'])\n",
    "df_annotation.index = df_annotation.index.astype('str')\n",
    "print('annotation:', df_annotation.shape, 'distinct lung:', len(set(df_annotation.index)))"
   ]
  },
  {
   "cell_type": "code",
   "execution_count": null,
   "metadata": {},
   "outputs": [],
   "source": [
    "df_annotation.sample(10)"
   ]
  },
  {
   "cell_type": "code",
   "execution_count": null,
   "metadata": {
    "scrolled": true
   },
   "outputs": [],
   "source": [
    "visual.plot_annotation(df_annotation, title='annotation')"
   ]
  },
  {
   "cell_type": "code",
   "execution_count": null,
   "metadata": {},
   "outputs": [],
   "source": [
    "dict_label = { '结节': 0, '索条': 0, '动脉硬化或钙化': 0, '淋巴结钙化': 0 }\n",
    "for i,item in df_annotation.iterrows():\n",
    "    if item.label == 1.:\n",
    "        dict_label['结节'] += 1\n",
    "    elif item.label == 5.:\n",
    "        dict_label['索条'] += 1\n",
    "    elif item.label == 31.:\n",
    "        dict_label['动脉硬化或钙化'] += 1\n",
    "    elif item.label == 32.:\n",
    "        dict_label['淋巴结钙化'] += 1\n",
    "        \n",
    "print(dict_label)"
   ]
  },
  {
   "cell_type": "code",
   "execution_count": null,
   "metadata": {
    "scrolled": false
   },
   "outputs": [],
   "source": [
    "visual.plot_annotation(df_annotation[(df_annotation['label'] == 1.) |  (df_annotation['label'] == 5.)], title='annotation')"
   ]
  },
  {
   "cell_type": "code",
   "execution_count": null,
   "metadata": {
    "scrolled": false
   },
   "outputs": [],
   "source": [
    "visual.plot_annotation(df_annotation[(df_annotation['label'] == 31.) |  (df_annotation['label'] == 32.)], title='annotation')"
   ]
  },
  {
   "cell_type": "markdown",
   "metadata": {},
   "source": [
    "# 2. Load Lung as Array from disk"
   ]
  },
  {
   "cell_type": "code",
   "execution_count": null,
   "metadata": {},
   "outputs": [],
   "source": [
    "EXAMPLE_SERIESUID = '542588'\n",
    "DATASET = 'TRAIN'"
   ]
  },
  {
   "cell_type": "code",
   "execution_count": null,
   "metadata": {},
   "outputs": [],
   "source": [
    "df = df_meta_train if DATASET == 'TRAIN' else df_meta_test\n",
    "record = df.loc[EXAMPLE_SERIESUID]\n",
    "print(type(record), record)"
   ]
  },
  {
   "cell_type": "code",
   "execution_count": null,
   "metadata": {},
   "outputs": [],
   "source": [
    "lung_l, mask_l = helper.load_lung_array(EXAMPLE_SERIESUID, int(record.width), int(record.height), int(record.slice), wtype='lung')\n",
    "lung_m, mask_m = helper.load_lung_array(EXAMPLE_SERIESUID, int(record.width), int(record.height), int(record.slice), wtype='medi')\n"
   ]
  },
  {
   "cell_type": "markdown",
   "metadata": {},
   "source": [
    "# 3. Visualize 2d and 3d Lung"
   ]
  },
  {
   "cell_type": "code",
   "execution_count": null,
   "metadata": {
    "scrolled": false
   },
   "outputs": [],
   "source": [
    "visual.plot_slices(lung_l, title=f'{EXAMPLE_SERIESUID} [lung][{DATASET}]')"
   ]
  },
  {
   "cell_type": "code",
   "execution_count": null,
   "metadata": {
    "scrolled": true
   },
   "outputs": [],
   "source": [
    "visual.plot_slices(lung_l*mask_l, title=f'{EXAMPLE_SERIESUID} [lung][{DATASET}][MASK]')"
   ]
  },
  {
   "cell_type": "code",
   "execution_count": null,
   "metadata": {
    "scrolled": true
   },
   "outputs": [],
   "source": [
    "visual.plot_slices(lung_m, title=f'{EXAMPLE_SERIESUID} [medi][{DATASET}]')"
   ]
  },
  {
   "cell_type": "code",
   "execution_count": null,
   "metadata": {
    "scrolled": true
   },
   "outputs": [],
   "source": [
    "visual.plot_slices(lung_m*mask_m, title=f'{EXAMPLE_SERIESUID} [medi][{DATASET}][MASK]')"
   ]
  },
  {
   "cell_type": "code",
   "execution_count": null,
   "metadata": {},
   "outputs": [],
   "source": [
    "# anim = visual.anim_slices(lung_l, title=f'{EXAMPLE_SERIESUID} [{DATASET}]')\n",
    "# HTML(anim.to_html5_video())"
   ]
  },
  {
   "cell_type": "code",
   "execution_count": null,
   "metadata": {},
   "outputs": [],
   "source": [
    "# anim = visual.anim_slices(lung_l*mask_l, title=f'{EXAMPLE_SERIESUID} [{DATASET}]')\n",
    "# HTML(anim.to_html5_video())"
   ]
  },
  {
   "cell_type": "code",
   "execution_count": null,
   "metadata": {},
   "outputs": [],
   "source": [
    "# z,y,x -> y,z,x front view\n",
    "# anim = visual.anim_slices(lung_l.transpose(1,0,2), title=f'{EXAMPLE_SERIESUID} [{DATASET}]')\n",
    "# HTML(anim.to_html5_video())"
   ]
  },
  {
   "cell_type": "code",
   "execution_count": null,
   "metadata": {},
   "outputs": [],
   "source": [
    "# z,y,x -> x,z,y side view\n",
    "# anim = visual.anim_slices(lung_l.transpose(2,0,1), title=f'{EXAMPLE_SERIESUID} [{DATASET}]')\n",
    "# HTML(anim.to_html5_video())"
   ]
  },
  {
   "cell_type": "code",
   "execution_count": null,
   "metadata": {},
   "outputs": [],
   "source": [
    "# visual.plot_3d_lung(lung_l, title=f'{EXAMPLE_SERIESUID} [{DATASET}]')"
   ]
  },
  {
   "cell_type": "code",
   "execution_count": null,
   "metadata": {},
   "outputs": [],
   "source": [
    "# visual.plot_3d_lung(lung_l*mask_l, title=f'{EXAMPLE_SERIESUID} [{DATASET}]')"
   ]
  },
  {
   "cell_type": "markdown",
   "metadata": {},
   "source": [
    "# 4.1 Visualize Annotation Label 31~32"
   ]
  },
  {
   "cell_type": "code",
   "execution_count": null,
   "metadata": {},
   "outputs": [],
   "source": [
    "EXAMPLE_SERIESUID = '542588'\n",
    "DATASET = 'TRAIN'"
   ]
  },
  {
   "cell_type": "code",
   "execution_count": null,
   "metadata": {},
   "outputs": [],
   "source": [
    "df = df_meta_train if DATASET == 'TRAIN' else df_meta_test\n",
    "record = df.loc[EXAMPLE_SERIESUID]\n",
    "print(type(record), record)"
   ]
  },
  {
   "cell_type": "code",
   "execution_count": null,
   "metadata": {},
   "outputs": [],
   "source": [
    "lung, mask = helper.load_lung_array(EXAMPLE_SERIESUID, int(record.width), int(record.height), int(record.slice), wtype='medi')"
   ]
  },
  {
   "cell_type": "code",
   "execution_count": null,
   "metadata": {
    "scrolled": true
   },
   "outputs": [],
   "source": [
    "labels = df_annotation.loc[[EXAMPLE_SERIESUID]]\n",
    "labels = labels[(labels['label']==31.)|(labels['label']==32.)]"
   ]
  },
  {
   "cell_type": "code",
   "execution_count": null,
   "metadata": {
    "scrolled": true
   },
   "outputs": [],
   "source": [
    "visual.plot_labels(lung, mask, labels, title=f'{EXAMPLE_SERIESUID} [LABELS:{len(labels)}]')"
   ]
  },
  {
   "cell_type": "markdown",
   "metadata": {},
   "source": [
    "# 4.2 Visualize Annotation Label 1,5"
   ]
  },
  {
   "cell_type": "code",
   "execution_count": null,
   "metadata": {},
   "outputs": [],
   "source": [
    "EXAMPLE_SERIESUID = '542588'\n",
    "DATASET = 'TRAIN'"
   ]
  },
  {
   "cell_type": "code",
   "execution_count": null,
   "metadata": {},
   "outputs": [],
   "source": [
    "df = df_meta_train if DATASET == 'TRAIN' else df_meta_test\n",
    "record = df.loc[EXAMPLE_SERIESUID]\n",
    "print(type(record), record)"
   ]
  },
  {
   "cell_type": "code",
   "execution_count": null,
   "metadata": {},
   "outputs": [],
   "source": [
    "lung, mask = helper.load_lung_array(EXAMPLE_SERIESUID, int(record.width), int(record.height), int(record.slice), wtype='lung')"
   ]
  },
  {
   "cell_type": "code",
   "execution_count": null,
   "metadata": {},
   "outputs": [],
   "source": [
    "labels = df_annotation.loc[[EXAMPLE_SERIESUID]]\n",
    "labels = labels[(labels['label']==1.)|(labels['label']==5.)]"
   ]
  },
  {
   "cell_type": "code",
   "execution_count": null,
   "metadata": {
    "scrolled": false
   },
   "outputs": [],
   "source": [
    "visual.plot_labels(lung, mask, labels, title=f'{EXAMPLE_SERIESUID} [LABELS:{len(labels)}]')"
   ]
  },
  {
   "cell_type": "markdown",
   "metadata": {},
   "source": [
    "# 5. Exception Cases Analytics"
   ]
  },
  {
   "cell_type": "code",
   "execution_count": null,
   "metadata": {},
   "outputs": [],
   "source": [
    "df_anno_ex = df_annotation[(df_annotation['diameterX'] > 80)|(df_annotation['diameterY'] > 100)|(df_annotation['diameterZ'] > 80)]\n",
    "df_anno_ex.shape"
   ]
  },
  {
   "cell_type": "code",
   "execution_count": null,
   "metadata": {
    "scrolled": false
   },
   "outputs": [],
   "source": [
    "for lung_id in set(df_anno_ex.index):\n",
    "    record = df_meta_train.loc[lung_id]\n",
    "    lung_l, mask_l = helper.load_lung_array(lung_id, int(record.width), int(record.height), int(record.slice), wtype='lung')\n",
    "    lung_m, mask_m = helper.load_lung_array(lung_id, int(record.width), int(record.height), int(record.slice), wtype='medi')\n",
    "    labels = df_annotation.loc[[lung_id]]\n",
    "    \n",
    "    if 1. in set(labels['label']) or 5. in set(labels['label']):\n",
    "        visual.plot_labels(lung_l, mask_l, labels, title=f'{lung_id} [LABELS:{len(labels)}]')\n",
    "    elif 31. in set(labels['label']) or 32. in set(labels['label']):\n",
    "        visual.plot_labels(lung_m, mask_m, labels, title=f'{lung_id} [LABELS:{len(labels)}]')\n",
    "    "
   ]
  },
  {
   "cell_type": "code",
   "execution_count": null,
   "metadata": {},
   "outputs": [],
   "source": []
  }
 ],
 "metadata": {
  "kernelspec": {
   "display_name": "Python 3",
   "language": "python",
   "name": "python3"
  },
  "language_info": {
   "codemirror_mode": {
    "name": "ipython",
    "version": 3
   },
   "file_extension": ".py",
   "mimetype": "text/x-python",
   "name": "python",
   "nbconvert_exporter": "python",
   "pygments_lexer": "ipython3",
   "version": "3.6.8"
  }
 },
 "nbformat": 4,
 "nbformat_minor": 2
}
