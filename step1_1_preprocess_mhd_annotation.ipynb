{
 "cells": [
  {
   "cell_type": "code",
   "execution_count": null,
   "metadata": {},
   "outputs": [],
   "source": [
    "# -*- coding: utf-8 -*-\n",
    "import sys; print('Python %s on %s' % (sys.version, sys.platform))\n",
    "import os\n",
    "import time\n",
    "import json\n",
    "from glob import glob, iglob\n",
    "from tqdm import tqdm\n",
    "import matplotlib.pyplot as plt\n",
    "\n",
    "import numpy as np; print('numpy', np.__version__)\n",
    "import pandas as pd; print('pandas', pd.__version__)\n",
    "import cv2; print('opencv2', cv2.__version__)\n",
    "import SimpleITK as itk; print(itk.Version())\n",
    "\n",
    "import settings\n",
    "import visual"
   ]
  },
  {
   "cell_type": "markdown",
   "metadata": {},
   "source": [
    "# 1. Annotation"
   ]
  },
  {
   "cell_type": "code",
   "execution_count": null,
   "metadata": {},
   "outputs": [],
   "source": [
    "df_anno = pd.read_csv(settings.ANNOTATION_FILE)\n",
    "df_anno['seriesuid'] = df_anno['seriesuid'].astype(str)\n",
    "df_anno = df_anno.set_index('seriesuid')\n",
    "df_anno.head(10)"
   ]
  },
  {
   "cell_type": "code",
   "execution_count": null,
   "metadata": {},
   "outputs": [],
   "source": [
    "df_anno.describe()"
   ]
  },
  {
   "cell_type": "code",
   "execution_count": null,
   "metadata": {},
   "outputs": [],
   "source": [
    "len(set(list(df_anno.index)))"
   ]
  },
  {
   "cell_type": "markdown",
   "metadata": {},
   "source": [
    "# 2. MHD FILES"
   ]
  },
  {
   "cell_type": "code",
   "execution_count": null,
   "metadata": {},
   "outputs": [],
   "source": [
    "all_mhd = glob(settings.RAW_TRAIN_DIR + '*.mhd')"
   ]
  },
  {
   "cell_type": "code",
   "execution_count": null,
   "metadata": {},
   "outputs": [],
   "source": [
    "no_label_mhd = set([x.split('/')[-1].strip('.mhd') for x in all_mhd]) - set(list(df_anno.index))\n",
    "print(len(no_label_mhd), no_label_mhd)\n",
    "with open(settings.PREPROCESS_DIR + 'no_label_mhd.json', \"w\") as json_file:\n",
    "    json.dump(list(no_label_mhd), json_file)"
   ]
  },
  {
   "cell_type": "code",
   "execution_count": null,
   "metadata": {
    "scrolled": true
   },
   "outputs": [],
   "source": [
    "list_anno = []\n",
    "for src_path in iglob(settings.RAW_TRAIN_DIR + '*.mhd'):\n",
    "    # load lung and get property, convert to numpy.ndarray\n",
    "    itk_img = itk.ReadImage(src_path)\n",
    "    lung_id = src_path.split('/')[-1].strip('.mhd')\n",
    "         \n",
    "    origin = np.array(itk_img.GetOrigin())\n",
    "    spacing = np.array(itk_img.GetSpacing())   \n",
    "    rescale = spacing / settings.TARGET_VOXEL_MM\n",
    "    \n",
    "    lung_array = itk.GetArrayFromImage(itk_img)\n",
    "    num_z, height, width = lung_array.shape\n",
    "    width_res = int(np.round(width * rescale[0]))\n",
    "    height_res = int(np.round(height * rescale[1]))\n",
    "    slice_res = int(np.round(num_z * rescale[2]))\n",
    "    resample = np.array([width_res, height_res, slice_res])    \n",
    "    \n",
    "    print('lung:', lung_id, type(lung_array), lung_array.shape, '(z,y,x)')\n",
    "    print('resample:', type(resample), resample, '(x,y,z)')\n",
    "    print('origin:', type(origin), origin, '(x,y,z)')\n",
    "    print('spacing:', type(spacing), spacing, '(x,y,z)')\n",
    "    print('rescale:', type(rescale), rescale, '(x,y,z)')\n",
    "    \n",
    "    # write down in annotation\n",
    "    if lung_id in set(list(df_anno.index)):\n",
    "        records = df_anno.loc[[lung_id]]\n",
    "        print('label records:', type(records), len(records))\n",
    "        no = 0  \n",
    "        for i, item in records.iterrows():\n",
    "            no += 1\n",
    "            # world coor to voxel coor\n",
    "            vCoordX, vCoordY, vCoordZ = np.array([item.coordX, item.coordY, item.coordZ]) - origin\n",
    "            vCoordZ = np.round(vCoordZ)\n",
    "            print('vcoord:', vCoordX, vCoordY, vCoordZ, '(x,y,z)')\n",
    "            assert 0 < vCoordX <= width_res and 0 < vCoordY <= height_res and 0 <= vCoordZ < slice_res\n",
    "            \n",
    "            vcoord = np.array([vCoordX, vCoordY, vCoordZ])\n",
    "            diameter = np.array([item.diameterX,  item.diameterY,  item.diameterZ])\n",
    "            \n",
    "            anno = {\n",
    "                'seriesuid': lung_id,\n",
    "                'width': width_res,\n",
    "                'height': height_res,\n",
    "                'slice': slice_res,\n",
    "                'vcoordX': vCoordX,\n",
    "                'vcoordY': vCoordY,\n",
    "                'vcoordZ': vCoordZ,\n",
    "                'diameterX': diameter[0],\n",
    "                'diameterY': diameter[1],\n",
    "                'diameterZ': diameter[2],\n",
    "                'originX': origin[0],\n",
    "                'originY': origin[1],\n",
    "                'originZ': origin[2],\n",
    "                'spacingX': spacing[0],\n",
    "                'spacingY': spacing[1],\n",
    "                'spacingZ': spacing[2],\n",
    "                'label': item.label\n",
    "            }\n",
    "            print(no, anno)\n",
    "            print('-'*50)\n",
    "            list_anno.append(anno)\n",
    "    else:\n",
    "        print('no label found', lung_id)\n",
    "    print('-'*100, lung_id, 'done', '\\n')"
   ]
  },
  {
   "cell_type": "code",
   "execution_count": null,
   "metadata": {},
   "outputs": [],
   "source": [
    "assert len(list_anno) == len(df_anno)"
   ]
  },
  {
   "cell_type": "code",
   "execution_count": null,
   "metadata": {},
   "outputs": [],
   "source": [
    "columns = [k for k, v in list_anno[0].items()]\n",
    "columns"
   ]
  },
  {
   "cell_type": "code",
   "execution_count": null,
   "metadata": {},
   "outputs": [],
   "source": [
    "df_anno_new = pd.DataFrame(list_anno, columns=columns)\n",
    "df_anno_new = df_anno_new.set_index('seriesuid')\n",
    "df_anno_new.to_csv(settings.PREPROCESS_ANNOTATION_FILE, encoding='utf-8')\n"
   ]
  },
  {
   "cell_type": "markdown",
   "metadata": {},
   "source": [
    "# 3. Annotation Analytic"
   ]
  },
  {
   "cell_type": "code",
   "execution_count": null,
   "metadata": {},
   "outputs": [],
   "source": [
    "df_anno_new = pd.read_csv(settings.PREPROCESS_ANNOTATION_FILE)\n",
    "df_anno_new['seriesuid'] = df_anno_new['seriesuid'].astype(str)\n",
    "df_anno_new = df_anno_new.set_index('seriesuid')\n",
    "df_anno_new.head(10)"
   ]
  },
  {
   "cell_type": "code",
   "execution_count": null,
   "metadata": {
    "scrolled": false
   },
   "outputs": [],
   "source": [
    "visual.plot_annotation(df_anno_new[df_anno_new['label']==31.], title='')"
   ]
  },
  {
   "cell_type": "code",
   "execution_count": null,
   "metadata": {
    "scrolled": false
   },
   "outputs": [],
   "source": [
    "visual.plot_annotation(df_anno_new[(df_anno_new['label']==1.)|(df_anno_new['label']==5.)], title='')"
   ]
  },
  {
   "cell_type": "code",
   "execution_count": null,
   "metadata": {},
   "outputs": [],
   "source": []
  }
 ],
 "metadata": {
  "kernelspec": {
   "display_name": "Python 3",
   "language": "python",
   "name": "python3"
  },
  "language_info": {
   "codemirror_mode": {
    "name": "ipython",
    "version": 3
   },
   "file_extension": ".py",
   "mimetype": "text/x-python",
   "name": "python",
   "nbconvert_exporter": "python",
   "pygments_lexer": "ipython3",
   "version": "3.6.8"
  }
 },
 "nbformat": 4,
 "nbformat_minor": 2
}
