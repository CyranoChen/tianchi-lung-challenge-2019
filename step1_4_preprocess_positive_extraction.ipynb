{
 "cells": [
  {
   "cell_type": "code",
   "execution_count": null,
   "metadata": {},
   "outputs": [],
   "source": [
    "# -*- coding: utf-8 -*-\n",
    "import sys; print('Python %s on %s' % (sys.version, sys.platform))\n",
    "import os\n",
    "import time\n",
    "import json\n",
    "from glob import glob, iglob\n",
    "from tqdm import tqdm\n",
    "import matplotlib.pyplot as plt\n",
    "\n",
    "import numpy as np; print('numpy', np.__version__)\n",
    "import pandas as pd; print('pandas', pd.__version__)\n",
    "import cv2; print('opencv2', cv2.__version__)\n",
    "\n",
    "import settings\n",
    "import helper\n",
    "import visual"
   ]
  },
  {
   "cell_type": "markdown",
   "metadata": {},
   "source": [
    "# 1. Load Annotation"
   ]
  },
  {
   "cell_type": "code",
   "execution_count": null,
   "metadata": {},
   "outputs": [],
   "source": [
    "df_annotation = pd.read_csv(filepath_or_buffer=settings.PREPROCESS_ANNOTATION_FILE, index_col=['seriesuid'])\n",
    "df_annotation.index = df_annotation.index.astype('str')\n",
    "print('annotation:', df_annotation.shape, 'distinct lung:', len(set(df_annotation.index)))"
   ]
  },
  {
   "cell_type": "code",
   "execution_count": null,
   "metadata": {},
   "outputs": [],
   "source": [
    "df_annotation.sample(10)"
   ]
  },
  {
   "cell_type": "code",
   "execution_count": null,
   "metadata": {},
   "outputs": [],
   "source": [
    "lungs = list(set(df_annotation.index))\n",
    "print('distinct lungs in annotation:', len(lungs))"
   ]
  },
  {
   "cell_type": "markdown",
   "metadata": {},
   "source": [
    "# 2. Positive Samples Extraction"
   ]
  },
  {
   "cell_type": "code",
   "execution_count": null,
   "metadata": {},
   "outputs": [],
   "source": [
    "IS_EXTRACTION = True\n",
    "if not os.path.exists(settings.PREPROCESS_POS_DIR):\n",
    "    os.mkdir(settings.PREPROCESS_POS_DIR)\n",
    "    os.mkdir(settings.PREPROCESS_POS_DIR + 'lung/')\n",
    "    os.mkdir(settings.PREPROCESS_POS_DIR + 'medi/')"
   ]
  },
  {
   "cell_type": "code",
   "execution_count": null,
   "metadata": {},
   "outputs": [],
   "source": [
    "if IS_EXTRACTION:\n",
    "    for uid in tqdm(lungs):\n",
    "        labels = df_annotation.loc[[uid]]\n",
    "        if len(labels) <= 0:\n",
    "            continue\n",
    "\n",
    "        lung_l, mask_l = helper.load_lung_array(uid, int(labels['width'].values[0]), int(labels['height'].values[0]), int(labels['slice'].values[0]), wtype='lung')\n",
    "        lung_m, mask_m = helper.load_lung_array(uid, int(labels['width'].values[0]), int(labels['height'].values[0]), int(labels['slice'].values[0]), wtype='medi')\n",
    "        \n",
    "        lung_l = lung_l*(mask_l>0)\n",
    "        lung_m = lung_m*(mask_m>0)\n",
    "        \n",
    "        for idx, item in labels.iterrows():\n",
    "            # patch without mask\n",
    "            if int(item.label) in {1, 5}:\n",
    "                lung = lung_l\n",
    "                wtype = 'lung'\n",
    "            elif int(item.label) in {31, 32}:\n",
    "                lung = lung_m\n",
    "                wtype = 'medi'\n",
    "            \n",
    "            cube = helper.get_cube_from_lung_array(lung, item.vcoordX, item.vcoordY, item.vcoordZ, block_size=settings.CUBE_POS_SIZE)\n",
    "            if np.sum(cube) > settings.THRESHOLD_VALID_CUBE:\n",
    "                seg_label = helper.create_seg_label(diameter=np.array([item.diameterZ, item.diameterY, item.diameterX]), offset=np.array([0,0,0]), block_size=settings.CUBE_POS_SIZE)\n",
    "                \n",
    "                helper.save_cube_img(\n",
    "                    f'{settings.PREPROCESS_POS_DIR}{wtype}/{idx}_x{int(item.vcoordX)}_y{int(item.vcoordY)}_z{int(item.vcoordZ)}_dx{int(round(item.diameterX))}_dy{int(round(item.diameterY))}_dz{int(round(item.diameterZ,0))}_l{int(item.label)}.png', \n",
    "                    cube, rows=8, cols=8)\n",
    "                \n",
    "                helper.save_cube_img(\n",
    "                    f'{settings.PREPROCESS_SEG_DIR}{wtype}_label/{idx}_x{int(item.vcoordX)}_y{int(item.vcoordY)}_z{int(item.vcoordZ)}_dx{int(round(item.diameterX))}_dy{int(round(item.diameterY))}_dz{int(round(item.diameterZ,0))}_l{int(item.label)}.png', \n",
    "                    seg_label, rows=8, cols=8)\n",
    "                \n",
    "                # save filp cube\n",
    "                helper.save_cube_img(\n",
    "                    f'{settings.PREPROCESS_POS_DIR}{wtype}/{idx}_filp_x{int(item.vcoordX)}_y{int(item.vcoordY)}_z{int(item.vcoordZ)}_dx{int(round(item.diameterX))}_dy{int(round(item.diameterY))}_dz{int(round(item.diameterZ,0))}_l{int(item.label)}.png', \n",
    "                    np.flip(cube.copy(), axis=2), rows=8, cols=8)\n",
    "                \n",
    "                helper.save_cube_img(\n",
    "                    f'{settings.PREPROCESS_SEG_DIR}{wtype}_label/{idx}_filp_x{int(item.vcoordX)}_y{int(item.vcoordY)}_z{int(item.vcoordZ)}_dx{int(round(item.diameterX))}_dy{int(round(item.diameterY))}_dz{int(round(item.diameterZ,0))}_l{int(item.label)}.png', \n",
    "                    np.flip(seg_label.copy(), axis=2), rows=8, cols=8)\n",
    "                "
   ]
  },
  {
   "cell_type": "markdown",
   "metadata": {},
   "source": [
    "# 3. Validate the Positive Samples"
   ]
  },
  {
   "cell_type": "code",
   "execution_count": null,
   "metadata": {},
   "outputs": [],
   "source": [
    "print(len(df_annotation), len(glob(settings.PREPROCESS_POS_DIR + '*/*.png')))"
   ]
  },
  {
   "cell_type": "code",
   "execution_count": null,
   "metadata": {},
   "outputs": [],
   "source": [
    "EXAMPLE_SERIESUID = '364920'\n",
    "WTYPE = 'lung'"
   ]
  },
  {
   "cell_type": "code",
   "execution_count": null,
   "metadata": {},
   "outputs": [],
   "source": [
    "labels = df_annotation.loc[[EXAMPLE_SERIESUID]]\n",
    "print('labels:', len(labels))"
   ]
  },
  {
   "cell_type": "code",
   "execution_count": null,
   "metadata": {},
   "outputs": [],
   "source": [
    "if len(labels) > 0:\n",
    "    for idx, item in labels.iterrows():\n",
    "        filename = f'{idx}_x{int(item.vcoordX)}_y{int(item.vcoordY)}_z{int(item.vcoordZ)}_dx{int(round(item.diameterX))}_dy{int(round(item.diameterY))}_dz{int(round(item.diameterZ,0))}_l{int(item.label)}.png'\n",
    "        cube = helper.load_cube_img(settings.PREPROCESS_POS_DIR + WTYPE + '/' + filename, rows=8, cols=8)\n",
    "        \n",
    "        assert cube.shape == (64, 64, 64)\n",
    "        print(filename, '\\n', cube)\n",
    "        print('--'*30)"
   ]
  },
  {
   "cell_type": "markdown",
   "metadata": {},
   "source": [
    "# 4. Visual Samples By Labels"
   ]
  },
  {
   "cell_type": "code",
   "execution_count": null,
   "metadata": {},
   "outputs": [],
   "source": [
    "EXAMPLE_SERIESUID = '364920'\n",
    "WTYPE = 'lung'"
   ]
  },
  {
   "cell_type": "code",
   "execution_count": null,
   "metadata": {
    "scrolled": false
   },
   "outputs": [],
   "source": [
    "for img_file in iglob(settings.PREPROCESS_POS_DIR + WTYPE + '/' + f'{EXAMPLE_SERIESUID}*.png'):\n",
    "    seg_file = img_file.replace(settings.PREPROCESS_POS_DIR, settings.PREPROCESS_SEG_DIR)\n",
    "    seg_file = seg_file.replace(WTYPE, WTYPE+'_label')\n",
    "    print(img_file, '\\n', seg_file)\n",
    "    img = cv2.imread(img_file, cv2.IMREAD_GRAYSCALE)\n",
    "    seg = cv2.imread(seg_file, cv2.IMREAD_GRAYSCALE)\n",
    "    fig, axs = plt.subplots(1, 2, figsize=(32, 16))\n",
    "    axs[0].imshow(img, cmap='gray')\n",
    "    axs[1].imshow(img*(seg>0), cmap='gray')\n",
    "    plt.show()"
   ]
  },
  {
   "cell_type": "code",
   "execution_count": null,
   "metadata": {},
   "outputs": [],
   "source": []
  }
 ],
 "metadata": {
  "kernelspec": {
   "display_name": "Python 3",
   "language": "python",
   "name": "python3"
  },
  "language_info": {
   "codemirror_mode": {
    "name": "ipython",
    "version": 3
   },
   "file_extension": ".py",
   "mimetype": "text/x-python",
   "name": "python",
   "nbconvert_exporter": "python",
   "pygments_lexer": "ipython3",
   "version": "3.6.8"
  }
 },
 "nbformat": 4,
 "nbformat_minor": 2
}
